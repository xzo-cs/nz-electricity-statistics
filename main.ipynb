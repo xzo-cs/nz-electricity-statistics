{
 "cells": [
  {
   "cell_type": "markdown",
   "id": "966a2969-52c9-4c74-86d5-7b8980271740",
   "metadata": {},
   "source": [
    "# Electricity Data Analysis Report\n",
    "\n",
    "## Overview\n",
    "This interactive report analyzes key electricity system metrics across generation, transmission, and consumption from 1974-2024. The visualizations enable exploration of historical trends and relationships between critical grid indicators.\n",
    "\n",
    "## Analysis\n",
    "\n",
    "### 1. Generation Profile\n",
    "**Visualization**: Interactive generation mix timeline  \n",
    "**Metrics**:\n",
    "- Total generation (GWh)\n",
    "- Source breakdown:\n",
    "  - Hydro | Geothermal | Wind | Solar\n",
    "  - Natural Gas | Coal | Oil\n",
    "**Insights**:\n",
    "- Renewable adoption trajectory\n",
    "- Seasonal generation patterns\n",
    "- Fuel mix evolution\n",
    "\n",
    "### 2. System Losses\n",
    "**Visualization**: Loss trend analyzer  \n",
    "**Metrics**:\n",
    "- Technical losses (% of generation)\n",
    "- Absolute losses (GWh)\n",
    "**Insights**:\n",
    "- Infrastructure efficiency\n",
    "- Loss-generation correlations\n",
    "- Benchmark comparisons\n",
    "\n",
    "### 3. Consumption Patterns\n",
    "**Visualization**: Sectoral demand explorer  \n",
    "**Metrics**:\n",
    "- Residential | Commercial | Industrial\n",
    "- Per capita consumption\n",
    "- Peak demand analysis\n",
    "**Insights**:\n",
    "- Demand drivers\n",
    "- Usage seasonality\n",
    "- Load profile changes\n",
    "\n",
    "## How to Use\n",
    "\n",
    "1. **Interact**:\n",
    "   - Dropdown selectors for metrics\n",
    "   - Hover for datapoint details\n",
    "   - Zoom/pan tools\n",
    "\n",
    "2. **Download**:\n",
    "   - CSV exports for all datasets\n",
    "\n",
    "3. **Compare**:\n",
    "   - Toggle between sectors/sources\n",
    "   - Analyze temporal patterns\n",
    "\n",
    "## Data Source\n",
    "- New Zealand Ministry of Business, Innovation & Employment\n",
    "\n",
    "> **Note**: All visualizations support full interactivity - click legend items to filter, use range sliders for time periods.\n",
    "\n",
    "---\n",
    "\n",
    "**Key Features**:\n",
    "- Mobile-responsive design\n",
    "- Export-ready figures\n",
    "- Embedded metadata\n",
    "- Annualized trend lines"
   ]
  },
  {
   "cell_type": "markdown",
   "id": "52d89f7c-16bd-402b-8b2c-adcbfce1f355",
   "metadata": {},
   "source": [
    "# Electricity Generation Plot"
   ]
  },
  {
   "cell_type": "code",
   "execution_count": 6,
   "id": "3acf1c66-68c3-4f70-a73a-b5d4ddc32d73",
   "metadata": {},
   "outputs": [
    {
     "data": {
      "application/vnd.plotly.v1+json": {
       "config": {
        "plotlyServerURL": "https://plot.ly"
       },
       "data": [
        {
         "name": "Net Generation (GWh)",
         "type": "scatter",
         "visible": true,
         "x": [
          "1974-01-01T00:00:00.000000000",
          "1975-01-01T00:00:00.000000000",
          "1976-01-01T00:00:00.000000000",
          "1977-01-01T00:00:00.000000000",
          "1978-01-01T00:00:00.000000000",
          "1979-01-01T00:00:00.000000000",
          "1980-01-01T00:00:00.000000000",
          "1981-01-01T00:00:00.000000000",
          "1982-01-01T00:00:00.000000000",
          "1983-01-01T00:00:00.000000000",
          "1984-01-01T00:00:00.000000000",
          "1985-01-01T00:00:00.000000000",
          "1986-01-01T00:00:00.000000000",
          "1987-01-01T00:00:00.000000000",
          "1988-01-01T00:00:00.000000000",
          "1989-01-01T00:00:00.000000000",
          "1990-01-01T00:00:00.000000000",
          "1991-01-01T00:00:00.000000000",
          "1992-01-01T00:00:00.000000000",
          "1993-01-01T00:00:00.000000000",
          "1994-01-01T00:00:00.000000000",
          "1995-01-01T00:00:00.000000000",
          "1996-01-01T00:00:00.000000000",
          "1997-01-01T00:00:00.000000000",
          "1998-01-01T00:00:00.000000000",
          "1999-01-01T00:00:00.000000000",
          "2000-01-01T00:00:00.000000000",
          "2001-01-01T00:00:00.000000000",
          "2002-01-01T00:00:00.000000000",
          "2003-01-01T00:00:00.000000000",
          "2004-01-01T00:00:00.000000000",
          "2005-01-01T00:00:00.000000000",
          "2006-01-01T00:00:00.000000000",
          "2007-01-01T00:00:00.000000000",
          "2008-01-01T00:00:00.000000000",
          "2009-01-01T00:00:00.000000000",
          "2010-01-01T00:00:00.000000000",
          "2011-01-01T00:00:00.000000000",
          "2012-01-01T00:00:00.000000000",
          "2013-01-01T00:00:00.000000000",
          "2014-01-01T00:00:00.000000000",
          "2015-01-01T00:00:00.000000000",
          "2016-01-01T00:00:00.000000000",
          "2017-01-01T00:00:00.000000000",
          "2018-01-01T00:00:00.000000000",
          "2019-01-01T00:00:00.000000000",
          "2020-01-01T00:00:00.000000000",
          "2021-01-01T00:00:00.000000000",
          "2022-01-01T00:00:00.000000000",
          "2023-01-01T00:00:00.000000000",
          "2024-01-01T00:00:00.000000000"
         ],
         "y": {
          "bdata": "zczMzMz/00BmZmZm5vHTQDMzMzPzBNVAMzMzM/OT1UAzMzMzc6PVQAAAAACA89VAZmZmZgZ61kCamZmZuQrXQM3MzMzMS9hAzczMzCzT2UAAAAAAQOnaQGZmZmYGVttAmpmZmdlG3EDNzMzMDKPcQGZmZmam6N1AMzMzM1Mg3kBmZmZmpgrfQGZmZmZm9t9AzczMzEx530CamZmZiXHgQAAAAABgxeBAAAAAAPBe4UBmZmZmtoPhQGZmZmY2uuFAMzMzM7Pv4UBmZmZm9vThQDMzMzMDp+JAzczMzPy44kCamZmZSUfjQAAAAAAQTeNAMzMzMzNH5EBmZmZmBkfkQJqZmZkZiuRAzczMzNy25EAzMzMzQ7PkQM3MzMyMl+RAzczMzFxG5UAAAAAA0CDlQJqZmZnZEeVAAAAAAKCy5EBmZmZmttnkQGZmZmaGL+VAZmZmZlb35EAAAAAA0CXlQJqZmZlpOuVAzczMzAxu5UBmZmZmVh3lQDMzMzMzHuVAMzMzM7NA5UDNzMzMDEXlQAAAAABwe+VA",
          "dtype": "f8"
         }
        },
        {
         "name": "Hydro",
         "type": "scatter",
         "visible": false,
         "x": [
          "1974-01-01T00:00:00.000000000",
          "1975-01-01T00:00:00.000000000",
          "1976-01-01T00:00:00.000000000",
          "1977-01-01T00:00:00.000000000",
          "1978-01-01T00:00:00.000000000",
          "1979-01-01T00:00:00.000000000",
          "1980-01-01T00:00:00.000000000",
          "1981-01-01T00:00:00.000000000",
          "1982-01-01T00:00:00.000000000",
          "1983-01-01T00:00:00.000000000",
          "1984-01-01T00:00:00.000000000",
          "1985-01-01T00:00:00.000000000",
          "1986-01-01T00:00:00.000000000",
          "1987-01-01T00:00:00.000000000",
          "1988-01-01T00:00:00.000000000",
          "1989-01-01T00:00:00.000000000",
          "1990-01-01T00:00:00.000000000",
          "1991-01-01T00:00:00.000000000",
          "1992-01-01T00:00:00.000000000",
          "1993-01-01T00:00:00.000000000",
          "1994-01-01T00:00:00.000000000",
          "1995-01-01T00:00:00.000000000",
          "1996-01-01T00:00:00.000000000",
          "1997-01-01T00:00:00.000000000",
          "1998-01-01T00:00:00.000000000",
          "1999-01-01T00:00:00.000000000",
          "2000-01-01T00:00:00.000000000",
          "2001-01-01T00:00:00.000000000",
          "2002-01-01T00:00:00.000000000",
          "2003-01-01T00:00:00.000000000",
          "2004-01-01T00:00:00.000000000",
          "2005-01-01T00:00:00.000000000",
          "2006-01-01T00:00:00.000000000",
          "2007-01-01T00:00:00.000000000",
          "2008-01-01T00:00:00.000000000",
          "2009-01-01T00:00:00.000000000",
          "2010-01-01T00:00:00.000000000",
          "2011-01-01T00:00:00.000000000",
          "2012-01-01T00:00:00.000000000",
          "2013-01-01T00:00:00.000000000",
          "2014-01-01T00:00:00.000000000",
          "2015-01-01T00:00:00.000000000",
          "2016-01-01T00:00:00.000000000",
          "2017-01-01T00:00:00.000000000",
          "2018-01-01T00:00:00.000000000",
          "2019-01-01T00:00:00.000000000",
          "2020-01-01T00:00:00.000000000",
          "2021-01-01T00:00:00.000000000",
          "2022-01-01T00:00:00.000000000",
          "2023-01-01T00:00:00.000000000",
          "2024-01-01T00:00:00.000000000"
         ],
         "y": {
          "bdata": "AAAAAIBezUAAAAAAQBzQQAAAAAAA+M1AAAAAAIB2zEAAAAAAgEfOQAAAAADA1NFAAAAAAMC40kAAAAAAwAbTQAAAAABAstFAAAAAAIAY00AAAAAAQLPTQDMzMzOzDdNAzczMzCxd1UAzMzMzUzPVQAAAAABAM9ZAMzMzM1PP1UCamZmZWWrWQAAAAABgItZAzczMzGxk1EAAAAAAgLbWQM3MzMys+thAmpmZmdme2kBmZmZmRlDZQGZmZmZmfNZAZmZmZoZ62EAzMzMzkyjWQGZmZmamn9dAmpmZmRn21EAAAAAAgAzYQDMzMzMz19ZAmpmZmXlW2kAAAAAAII7WQM3MzMzsytZAMzMzM5Pb1kBmZmZmhpvVQAAAAABgatdAAAAAAGDo10AzMzMzc0fYQJqZmZl5I9ZAZmZmZoZL1kBmZmZmRo/XQDMzMzPTxNdAzczMzGwb2UAzMzMzk1jYQGZmZmambtlAMzMzM1PN2EAAAAAAgIPXQM3MzMzMatdAAAAAAOB12UAzMzMzM8PZQDMzMzMzDddA",
          "dtype": "f8"
         }
        },
        {
         "name": "Geothermal",
         "type": "scatter",
         "visible": false,
         "x": [
          "1974-01-01T00:00:00.000000000",
          "1975-01-01T00:00:00.000000000",
          "1976-01-01T00:00:00.000000000",
          "1977-01-01T00:00:00.000000000",
          "1978-01-01T00:00:00.000000000",
          "1979-01-01T00:00:00.000000000",
          "1980-01-01T00:00:00.000000000",
          "1981-01-01T00:00:00.000000000",
          "1982-01-01T00:00:00.000000000",
          "1983-01-01T00:00:00.000000000",
          "1984-01-01T00:00:00.000000000",
          "1985-01-01T00:00:00.000000000",
          "1986-01-01T00:00:00.000000000",
          "1987-01-01T00:00:00.000000000",
          "1988-01-01T00:00:00.000000000",
          "1989-01-01T00:00:00.000000000",
          "1990-01-01T00:00:00.000000000",
          "1991-01-01T00:00:00.000000000",
          "1992-01-01T00:00:00.000000000",
          "1993-01-01T00:00:00.000000000",
          "1994-01-01T00:00:00.000000000",
          "1995-01-01T00:00:00.000000000",
          "1996-01-01T00:00:00.000000000",
          "1997-01-01T00:00:00.000000000",
          "1998-01-01T00:00:00.000000000",
          "1999-01-01T00:00:00.000000000",
          "2000-01-01T00:00:00.000000000",
          "2001-01-01T00:00:00.000000000",
          "2002-01-01T00:00:00.000000000",
          "2003-01-01T00:00:00.000000000",
          "2004-01-01T00:00:00.000000000",
          "2005-01-01T00:00:00.000000000",
          "2006-01-01T00:00:00.000000000",
          "2007-01-01T00:00:00.000000000",
          "2008-01-01T00:00:00.000000000",
          "2009-01-01T00:00:00.000000000",
          "2010-01-01T00:00:00.000000000",
          "2011-01-01T00:00:00.000000000",
          "2012-01-01T00:00:00.000000000",
          "2013-01-01T00:00:00.000000000",
          "2014-01-01T00:00:00.000000000",
          "2015-01-01T00:00:00.000000000",
          "2016-01-01T00:00:00.000000000",
          "2017-01-01T00:00:00.000000000",
          "2018-01-01T00:00:00.000000000",
          "2019-01-01T00:00:00.000000000",
          "2020-01-01T00:00:00.000000000",
          "2021-01-01T00:00:00.000000000",
          "2022-01-01T00:00:00.000000000",
          "2023-01-01T00:00:00.000000000",
          "2024-01-01T00:00:00.000000000"
         ],
         "y": {
          "bdata": "AAAAAAA4lUAAAAAAABiVQAAAAAAAKJRAAAAAAAAEk0AAAAAAAFyTQAAAAAAAeJFAAAAAAADYkkAAAAAAANSRQAAAAAAAGJJAAAAAAABUkkAAAAAAADiUQGZmZmZmMpJAMzMzMzNHk0CamZmZmTGTQM3MzMzMVJNAAAAAAACmmkCamZmZmWufQAAAAAAA3KBAAAAAAACmoEAAAAAAAI6hQAAAAAAAaqBAmpmZmZnbn0CamZmZmdmfQM3MzMzMpKBAAAAAAACjokCamZmZmZekQAAAAAAAiKVAmpmZmZnrpEBmZmZmZr2kQDMzMzMzRaRAMzMzMzOOpEBmZmZmZkmnQJqZmZmZ0qhAZmZmZmYzqkAzMzMzM/yuQM3MzMxM7bFAmpmZmZm2tUCamZmZGfy2QJqZmZmZw7dAMzMzM7MwuUCamZmZGRu8QJqZmZmZRL5AZmZmZuY5vkCamZmZGWO+QM3MzMxMMb5AZmZmZmZxvkCamZmZmZm+QM3MzMxMIL9AZmZmZmZNv0BmZmZmZjS+QGZmZmZmEsFA",
          "dtype": "f8"
         }
        },
        {
         "name": "Biogas",
         "type": "scatter",
         "visible": false,
         "x": [
          "1974-01-01T00:00:00.000000000",
          "1975-01-01T00:00:00.000000000",
          "1976-01-01T00:00:00.000000000",
          "1977-01-01T00:00:00.000000000",
          "1978-01-01T00:00:00.000000000",
          "1979-01-01T00:00:00.000000000",
          "1980-01-01T00:00:00.000000000",
          "1981-01-01T00:00:00.000000000",
          "1982-01-01T00:00:00.000000000",
          "1983-01-01T00:00:00.000000000",
          "1984-01-01T00:00:00.000000000",
          "1985-01-01T00:00:00.000000000",
          "1986-01-01T00:00:00.000000000",
          "1987-01-01T00:00:00.000000000",
          "1988-01-01T00:00:00.000000000",
          "1989-01-01T00:00:00.000000000",
          "1990-01-01T00:00:00.000000000",
          "1991-01-01T00:00:00.000000000",
          "1992-01-01T00:00:00.000000000",
          "1993-01-01T00:00:00.000000000",
          "1994-01-01T00:00:00.000000000",
          "1995-01-01T00:00:00.000000000",
          "1996-01-01T00:00:00.000000000",
          "1997-01-01T00:00:00.000000000",
          "1998-01-01T00:00:00.000000000",
          "1999-01-01T00:00:00.000000000",
          "2000-01-01T00:00:00.000000000",
          "2001-01-01T00:00:00.000000000",
          "2002-01-01T00:00:00.000000000",
          "2003-01-01T00:00:00.000000000",
          "2004-01-01T00:00:00.000000000",
          "2005-01-01T00:00:00.000000000",
          "2006-01-01T00:00:00.000000000",
          "2007-01-01T00:00:00.000000000",
          "2008-01-01T00:00:00.000000000",
          "2009-01-01T00:00:00.000000000",
          "2010-01-01T00:00:00.000000000",
          "2011-01-01T00:00:00.000000000",
          "2012-01-01T00:00:00.000000000",
          "2013-01-01T00:00:00.000000000",
          "2014-01-01T00:00:00.000000000",
          "2015-01-01T00:00:00.000000000",
          "2016-01-01T00:00:00.000000000",
          "2017-01-01T00:00:00.000000000",
          "2018-01-01T00:00:00.000000000",
          "2019-01-01T00:00:00.000000000",
          "2020-01-01T00:00:00.000000000",
          "2021-01-01T00:00:00.000000000",
          "2022-01-01T00:00:00.000000000",
          "2023-01-01T00:00:00.000000000",
          "2024-01-01T00:00:00.000000000"
         ],
         "y": {
          "bdata": "ZmZmZmZmHkBmZmZmZqZEQM3MzMzMTEpAzczMzMxMSkDNzMzMzExKQJqZmZmZGUxAMzMzMzOzTEBmZmZmZsZWQJqZmZmZmVlAZmZmZmYmWkAzMzMzM1NaQDMzMzMzU1pAMzMzMzNTWkAzMzMzM3NaQJqZmZmZeVpAmpmZmZl5WkCamZmZmVlgQAAAAAAA8GJAMzMzMzNzY0AzMzMzM3NjQM3MzMzMTGRAZmZmZmaGZUCamZmZmTliQM3MzMzMbGFAZmZmZmYWYUBmZmZmZgZdQDMzMzMzs1lAmpmZmZk5WUDNzMzMzFxgQJqZmZmZ6WRAzczMzMw8Z0AzMzMzM8NnQDMzMzMzQ2tAAAAAAABQakAzMzMzM1NpQAAAAAAA4GpAAAAAAAAwa0BmZmZmZkZrQAAAAAAAYGpAZmZmZmZWaUCamZmZmXlsQAAAAAAAgG5AZmZmZmY+cECamZmZmXFwQAAAAAAAWHBAAAAAAACwcEBmZmZmZvZwQAAAAAAAcHBAzczMzMzscEAAAAAAAHByQAAAAAAAMHNA",
          "dtype": "f8"
         }
        },
        {
         "name": "Wood",
         "type": "scatter",
         "visible": false,
         "x": [
          "1974-01-01T00:00:00.000000000",
          "1975-01-01T00:00:00.000000000",
          "1976-01-01T00:00:00.000000000",
          "1977-01-01T00:00:00.000000000",
          "1978-01-01T00:00:00.000000000",
          "1979-01-01T00:00:00.000000000",
          "1980-01-01T00:00:00.000000000",
          "1981-01-01T00:00:00.000000000",
          "1982-01-01T00:00:00.000000000",
          "1983-01-01T00:00:00.000000000",
          "1984-01-01T00:00:00.000000000",
          "1985-01-01T00:00:00.000000000",
          "1986-01-01T00:00:00.000000000",
          "1987-01-01T00:00:00.000000000",
          "1988-01-01T00:00:00.000000000",
          "1989-01-01T00:00:00.000000000",
          "1990-01-01T00:00:00.000000000",
          "1991-01-01T00:00:00.000000000",
          "1992-01-01T00:00:00.000000000",
          "1993-01-01T00:00:00.000000000",
          "1994-01-01T00:00:00.000000000",
          "1995-01-01T00:00:00.000000000",
          "1996-01-01T00:00:00.000000000",
          "1997-01-01T00:00:00.000000000",
          "1998-01-01T00:00:00.000000000",
          "1999-01-01T00:00:00.000000000",
          "2000-01-01T00:00:00.000000000",
          "2001-01-01T00:00:00.000000000",
          "2002-01-01T00:00:00.000000000",
          "2003-01-01T00:00:00.000000000",
          "2004-01-01T00:00:00.000000000",
          "2005-01-01T00:00:00.000000000",
          "2006-01-01T00:00:00.000000000",
          "2007-01-01T00:00:00.000000000",
          "2008-01-01T00:00:00.000000000",
          "2009-01-01T00:00:00.000000000",
          "2010-01-01T00:00:00.000000000",
          "2011-01-01T00:00:00.000000000",
          "2012-01-01T00:00:00.000000000",
          "2013-01-01T00:00:00.000000000",
          "2014-01-01T00:00:00.000000000",
          "2015-01-01T00:00:00.000000000",
          "2016-01-01T00:00:00.000000000",
          "2017-01-01T00:00:00.000000000",
          "2018-01-01T00:00:00.000000000",
          "2019-01-01T00:00:00.000000000",
          "2020-01-01T00:00:00.000000000",
          "2021-01-01T00:00:00.000000000",
          "2022-01-01T00:00:00.000000000",
          "2023-01-01T00:00:00.000000000",
          "2024-01-01T00:00:00.000000000"
         ],
         "y": {
          "bdata": "AAAAAAAMg0AAAAAAAAyDQAAAAAAADINAAAAAAAAMg0AAAAAAAAyDQAAAAAAADINAAAAAAAAMg0AAAAAAAAyDQAAAAAAADINAAAAAAAAMg0CamZmZmcGDQGZmZmZm/oNAZmZmZmb+g0BmZmZmZv6DQGZmZmZm/oNAZmZmZmbug0DNzMzMzLyEQGZmZmZmgoRAmpmZmZmpg0DNzMzMzHSEQM3MzMzMjIRAmpmZmZmxhEDNzMzMzFyDQDMzMzMzg4NAZmZmZmZig0DNzMzMzJSDQAAAAAAAuIVAzczMzMz0gUAAAAAAANB5QM3MzMzM7HVAAAAAAACAeUBmZmZmZuZ7QJqZmZmZiX1AzczMzMwUfkCamZmZmfl9QJqZmZmZMX9AMzMzMzNjf0AzMzMzM4N+QGZmZmZmpoBAMzMzMzMfgUDNzMzMzFCAQGZmZmZmNoBAmpmZmZkBf0CamZmZmVF+QM3MzMzM7HxAZmZmZmaGfUCamZmZmbl8QDMzMzMzM35AzczMzMxse0AAAAAAADB5QGZmZmZmnntA",
          "dtype": "f8"
         }
        },
        {
         "name": "Wind",
         "type": "scatter",
         "visible": false,
         "x": [
          "1974-01-01T00:00:00.000000000",
          "1975-01-01T00:00:00.000000000",
          "1976-01-01T00:00:00.000000000",
          "1977-01-01T00:00:00.000000000",
          "1978-01-01T00:00:00.000000000",
          "1979-01-01T00:00:00.000000000",
          "1980-01-01T00:00:00.000000000",
          "1981-01-01T00:00:00.000000000",
          "1982-01-01T00:00:00.000000000",
          "1983-01-01T00:00:00.000000000",
          "1984-01-01T00:00:00.000000000",
          "1985-01-01T00:00:00.000000000",
          "1986-01-01T00:00:00.000000000",
          "1987-01-01T00:00:00.000000000",
          "1988-01-01T00:00:00.000000000",
          "1989-01-01T00:00:00.000000000",
          "1990-01-01T00:00:00.000000000",
          "1991-01-01T00:00:00.000000000",
          "1992-01-01T00:00:00.000000000",
          "1993-01-01T00:00:00.000000000",
          "1994-01-01T00:00:00.000000000",
          "1995-01-01T00:00:00.000000000",
          "1996-01-01T00:00:00.000000000",
          "1997-01-01T00:00:00.000000000",
          "1998-01-01T00:00:00.000000000",
          "1999-01-01T00:00:00.000000000",
          "2000-01-01T00:00:00.000000000",
          "2001-01-01T00:00:00.000000000",
          "2002-01-01T00:00:00.000000000",
          "2003-01-01T00:00:00.000000000",
          "2004-01-01T00:00:00.000000000",
          "2005-01-01T00:00:00.000000000",
          "2006-01-01T00:00:00.000000000",
          "2007-01-01T00:00:00.000000000",
          "2008-01-01T00:00:00.000000000",
          "2009-01-01T00:00:00.000000000",
          "2010-01-01T00:00:00.000000000",
          "2011-01-01T00:00:00.000000000",
          "2012-01-01T00:00:00.000000000",
          "2013-01-01T00:00:00.000000000",
          "2014-01-01T00:00:00.000000000",
          "2015-01-01T00:00:00.000000000",
          "2016-01-01T00:00:00.000000000",
          "2017-01-01T00:00:00.000000000",
          "2018-01-01T00:00:00.000000000",
          "2019-01-01T00:00:00.000000000",
          "2020-01-01T00:00:00.000000000",
          "2021-01-01T00:00:00.000000000",
          "2022-01-01T00:00:00.000000000",
          "2023-01-01T00:00:00.000000000",
          "2024-01-01T00:00:00.000000000"
         ],
         "y": {
          "bdata": "AAAAAAAAAAAAAAAAAAAAAAAAAAAAAAAAAAAAAAAAAAAAAAAAAAAAAAAAAAAAAAAAAAAAAAAAAAAAAAAAAAAAAAAAAAAAAAAAAAAAAAAAAAAAAAAAAAAAAAAAAAAAAAAAAAAAAAAAAAAAAAAAAAAAAAAAAAAAAAAAAAAAAAAAAAAAAAAAAAAAAAAAAAAAAAAAZmZmZmZm5j8AAAAAAADwPwAAAAAAAPA/AAAAAAAA8D9mZmZmZmYgQAAAAAAAACtAzczMzMzMNUDNzMzMzExDQAAAAAAAwF1AMzMzMzMzYUDNzMzMzDxjQDMzMzMzI2JAZmZmZmZedkCamZmZmQGDQAAAAAAAQINAzczMzMzEjECamZmZmV+QQM3MzMzM1pZAmpmZmZlPmUAAAAAAAEKeQGZmZmZmEqBAAAAAAABCn0CamZmZmRmhQAAAAAAASaJAMzMzMzMHokDNzMzMzCCgQM3MzMzMBaBAzczMzMyRoUDNzMzMzOyhQAAAAAAAXKRAmpmZmZklpkBmZmZmZgipQDMzMzMzm65A",
          "dtype": "f8"
         }
        },
        {
         "name": "Solar",
         "type": "scatter",
         "visible": false,
         "x": [
          "1974-01-01T00:00:00.000000000",
          "1975-01-01T00:00:00.000000000",
          "1976-01-01T00:00:00.000000000",
          "1977-01-01T00:00:00.000000000",
          "1978-01-01T00:00:00.000000000",
          "1979-01-01T00:00:00.000000000",
          "1980-01-01T00:00:00.000000000",
          "1981-01-01T00:00:00.000000000",
          "1982-01-01T00:00:00.000000000",
          "1983-01-01T00:00:00.000000000",
          "1984-01-01T00:00:00.000000000",
          "1985-01-01T00:00:00.000000000",
          "1986-01-01T00:00:00.000000000",
          "1987-01-01T00:00:00.000000000",
          "1988-01-01T00:00:00.000000000",
          "1989-01-01T00:00:00.000000000",
          "1990-01-01T00:00:00.000000000",
          "1991-01-01T00:00:00.000000000",
          "1992-01-01T00:00:00.000000000",
          "1993-01-01T00:00:00.000000000",
          "1994-01-01T00:00:00.000000000",
          "1995-01-01T00:00:00.000000000",
          "1996-01-01T00:00:00.000000000",
          "1997-01-01T00:00:00.000000000",
          "1998-01-01T00:00:00.000000000",
          "1999-01-01T00:00:00.000000000",
          "2000-01-01T00:00:00.000000000",
          "2001-01-01T00:00:00.000000000",
          "2002-01-01T00:00:00.000000000",
          "2003-01-01T00:00:00.000000000",
          "2004-01-01T00:00:00.000000000",
          "2005-01-01T00:00:00.000000000",
          "2006-01-01T00:00:00.000000000",
          "2007-01-01T00:00:00.000000000",
          "2008-01-01T00:00:00.000000000",
          "2009-01-01T00:00:00.000000000",
          "2010-01-01T00:00:00.000000000",
          "2011-01-01T00:00:00.000000000",
          "2012-01-01T00:00:00.000000000",
          "2013-01-01T00:00:00.000000000",
          "2014-01-01T00:00:00.000000000",
          "2015-01-01T00:00:00.000000000",
          "2016-01-01T00:00:00.000000000",
          "2017-01-01T00:00:00.000000000",
          "2018-01-01T00:00:00.000000000",
          "2019-01-01T00:00:00.000000000",
          "2020-01-01T00:00:00.000000000",
          "2021-01-01T00:00:00.000000000",
          "2022-01-01T00:00:00.000000000",
          "2023-01-01T00:00:00.000000000",
          "2024-01-01T00:00:00.000000000"
         ],
         "y": {
          "bdata": "AAAAAAAAAAAAAAAAAAAAAAAAAAAAAAAAAAAAAAAAAAAAAAAAAAAAAAAAAAAAAAAAAAAAAAAAAAAAAAAAAAAAAAAAAAAAAAAAAAAAAAAAAAAAAAAAAAAAAAAAAAAAAAAAAAAAAAAAAAAAAAAAAAAAAAAAAAAAAAAAAAAAAAAAAAAAAAAAAAAAAAAAAAAAAAAAAAAAAAAAAAAAAAAAAAAAAAAAAAAAAAAAAAAAAAAAAAAAAAAAAAAAAAAAAAAAAAAAAAAAAAAAAAAAAAAAAAAAAAAAAAAAAAAAAAAAAAAAAAAAAAAAAAAAAAAAAAAAAAAAAAAAAAAAAAAAAAAAAAAAAAAAAAAAAAAAMzMzMzMzC0AzMzMzMzMLQM3MzMzMzAxAZmZmZmZmDkBmZmZmZmYQQDMzMzMzMxNAZmZmZmZmGkCamZmZmZkyQAAAAAAAQEJAmpmZmZkZTEAzMzMzMxNTQM3MzMzM7FhAZmZmZmamX0AAAAAAAPBjQM3MzMzMDGpAMzMzMzOrcUCamZmZmTF3QJqZmZmZyYJA",
          "dtype": "f8"
         }
        },
        {
         "name": "Oil",
         "type": "scatter",
         "visible": false,
         "x": [
          "1974-01-01T00:00:00.000000000",
          "1975-01-01T00:00:00.000000000",
          "1976-01-01T00:00:00.000000000",
          "1977-01-01T00:00:00.000000000",
          "1978-01-01T00:00:00.000000000",
          "1979-01-01T00:00:00.000000000",
          "1980-01-01T00:00:00.000000000",
          "1981-01-01T00:00:00.000000000",
          "1982-01-01T00:00:00.000000000",
          "1983-01-01T00:00:00.000000000",
          "1984-01-01T00:00:00.000000000",
          "1985-01-01T00:00:00.000000000",
          "1986-01-01T00:00:00.000000000",
          "1987-01-01T00:00:00.000000000",
          "1988-01-01T00:00:00.000000000",
          "1989-01-01T00:00:00.000000000",
          "1990-01-01T00:00:00.000000000",
          "1991-01-01T00:00:00.000000000",
          "1992-01-01T00:00:00.000000000",
          "1993-01-01T00:00:00.000000000",
          "1994-01-01T00:00:00.000000000",
          "1995-01-01T00:00:00.000000000",
          "1996-01-01T00:00:00.000000000",
          "1997-01-01T00:00:00.000000000",
          "1998-01-01T00:00:00.000000000",
          "1999-01-01T00:00:00.000000000",
          "2000-01-01T00:00:00.000000000",
          "2001-01-01T00:00:00.000000000",
          "2002-01-01T00:00:00.000000000",
          "2003-01-01T00:00:00.000000000",
          "2004-01-01T00:00:00.000000000",
          "2005-01-01T00:00:00.000000000",
          "2006-01-01T00:00:00.000000000",
          "2007-01-01T00:00:00.000000000",
          "2008-01-01T00:00:00.000000000",
          "2009-01-01T00:00:00.000000000",
          "2010-01-01T00:00:00.000000000",
          "2011-01-01T00:00:00.000000000",
          "2012-01-01T00:00:00.000000000",
          "2013-01-01T00:00:00.000000000",
          "2014-01-01T00:00:00.000000000",
          "2015-01-01T00:00:00.000000000",
          "2016-01-01T00:00:00.000000000",
          "2017-01-01T00:00:00.000000000",
          "2018-01-01T00:00:00.000000000",
          "2019-01-01T00:00:00.000000000",
          "2020-01-01T00:00:00.000000000",
          "2021-01-01T00:00:00.000000000",
          "2022-01-01T00:00:00.000000000",
          "2023-01-01T00:00:00.000000000",
          "2024-01-01T00:00:00.000000000"
         ],
         "y": {
          "bdata": "AAAAAABcnkAAAAAAAJiIQAAAAAAAAJRAAAAAAADIhkAAAAAAAOBoQAAAAAAAAEhAAAAAAAAACEAAAAAAAAAIQAAAAAAAAC5AAAAAAABAYkAAAAAAAAAUQM3MzMzMzEdAMzMzMzMzGUAzMzMzMzMiQDMzMzMzMxtAAAAAAAAA4D9mZmZmZmYiQJqZmZmZmTdAMzMzMzMDaEAAAAAAAIBNQAAAAAAAADRAMzMzMzPzR0AzMzMzMzMtQAAAAAAAAAAAAAAAAAAA8D8AAAAAAAAAAAAAAAAAAAAAAAAAAAAAAAAAAAAAAAAAAJqZmZmZGTNAMzMzMzOzNkDNzMzMzMwMQJqZmZmZmTZAMzMzMzMz8z8zMzMzM/NeQAAAAAAAACJAAAAAAAAAAEDNzMzMzMwAQDMzMzMzMwtAMzMzMzMzC0DNzMzMzMwIQGZmZmZmZvY/zczMzMzMCEAAAAAAAAAWQM3MzMzMzCVAMzMzMzMzD0AAAAAAAAAqQM3MzMzMzDlAAAAAAAAAHEBmZmZmZmYSQGZmZmZm5jhA",
          "dtype": "f8"
         }
        },
        {
         "name": "Coal",
         "type": "scatter",
         "visible": false,
         "x": [
          "1974-01-01T00:00:00.000000000",
          "1975-01-01T00:00:00.000000000",
          "1976-01-01T00:00:00.000000000",
          "1977-01-01T00:00:00.000000000",
          "1978-01-01T00:00:00.000000000",
          "1979-01-01T00:00:00.000000000",
          "1980-01-01T00:00:00.000000000",
          "1981-01-01T00:00:00.000000000",
          "1982-01-01T00:00:00.000000000",
          "1983-01-01T00:00:00.000000000",
          "1984-01-01T00:00:00.000000000",
          "1985-01-01T00:00:00.000000000",
          "1986-01-01T00:00:00.000000000",
          "1987-01-01T00:00:00.000000000",
          "1988-01-01T00:00:00.000000000",
          "1989-01-01T00:00:00.000000000",
          "1990-01-01T00:00:00.000000000",
          "1991-01-01T00:00:00.000000000",
          "1992-01-01T00:00:00.000000000",
          "1993-01-01T00:00:00.000000000",
          "1994-01-01T00:00:00.000000000",
          "1995-01-01T00:00:00.000000000",
          "1996-01-01T00:00:00.000000000",
          "1997-01-01T00:00:00.000000000",
          "1998-01-01T00:00:00.000000000",
          "1999-01-01T00:00:00.000000000",
          "2000-01-01T00:00:00.000000000",
          "2001-01-01T00:00:00.000000000",
          "2002-01-01T00:00:00.000000000",
          "2003-01-01T00:00:00.000000000",
          "2004-01-01T00:00:00.000000000",
          "2005-01-01T00:00:00.000000000",
          "2006-01-01T00:00:00.000000000",
          "2007-01-01T00:00:00.000000000",
          "2008-01-01T00:00:00.000000000",
          "2009-01-01T00:00:00.000000000",
          "2010-01-01T00:00:00.000000000",
          "2011-01-01T00:00:00.000000000",
          "2012-01-01T00:00:00.000000000",
          "2013-01-01T00:00:00.000000000",
          "2014-01-01T00:00:00.000000000",
          "2015-01-01T00:00:00.000000000",
          "2016-01-01T00:00:00.000000000",
          "2017-01-01T00:00:00.000000000",
          "2018-01-01T00:00:00.000000000",
          "2019-01-01T00:00:00.000000000",
          "2020-01-01T00:00:00.000000000",
          "2021-01-01T00:00:00.000000000",
          "2022-01-01T00:00:00.000000000",
          "2023-01-01T00:00:00.000000000",
          "2024-01-01T00:00:00.000000000"
         ],
         "y": {
          "bdata": "AAAAAABElEAAAAAAAFiQQAAAAAAAJJFAAAAAAABwjEDNzMzMzDCHQDMzMzMze3hAAAAAAACYekAAAAAAAFh4QAAAAAAAWHpAAAAAAABUhEAAAAAAAMSGQAAAAAAAbIZAzczMzMxcgUDNzMzMzGiKQGZmZmZmloZAMzMzMzPje0AAAAAAAGSDQDMzMzMzK3xAZmZmZmZKkkBmZmZmZr6FQM3MzMzMNIRAmpmZmZlNikBmZmZmZmKLQM3MzMzM+pdAMzMzMzNVlUDNzMzMzDiaQM3MzMzMlJZAZmZmZmbunkCamZmZmReeQDMzMzMz6axAZmZmZmZwsUCamZmZGV+1QM3MzMzMLrRAzczMzMwTp0AAAAAAgKOxQGZmZmZmE6hAmpmZmZkjnkCamZmZma+fQAAAAAAA66lAZmZmZmZ6oUAzMzMzM52cQAAAAAAAZJtAAAAAAACcjkBmZmZmZrSRQJqZmZmZHZdAMzMzMzOMoEDNzMzMzN2gQGZmZmZmmKdAmpmZmZmNk0DNzMzMzByQQAAAAAAAhqFA",
          "dtype": "f8"
         }
        },
        {
         "name": "Gas",
         "type": "scatter",
         "visible": false,
         "x": [
          "1974-01-01T00:00:00.000000000",
          "1975-01-01T00:00:00.000000000",
          "1976-01-01T00:00:00.000000000",
          "1977-01-01T00:00:00.000000000",
          "1978-01-01T00:00:00.000000000",
          "1979-01-01T00:00:00.000000000",
          "1980-01-01T00:00:00.000000000",
          "1981-01-01T00:00:00.000000000",
          "1982-01-01T00:00:00.000000000",
          "1983-01-01T00:00:00.000000000",
          "1984-01-01T00:00:00.000000000",
          "1985-01-01T00:00:00.000000000",
          "1986-01-01T00:00:00.000000000",
          "1987-01-01T00:00:00.000000000",
          "1988-01-01T00:00:00.000000000",
          "1989-01-01T00:00:00.000000000",
          "1990-01-01T00:00:00.000000000",
          "1991-01-01T00:00:00.000000000",
          "1992-01-01T00:00:00.000000000",
          "1993-01-01T00:00:00.000000000",
          "1994-01-01T00:00:00.000000000",
          "1995-01-01T00:00:00.000000000",
          "1996-01-01T00:00:00.000000000",
          "1997-01-01T00:00:00.000000000",
          "1998-01-01T00:00:00.000000000",
          "1999-01-01T00:00:00.000000000",
          "2000-01-01T00:00:00.000000000",
          "2001-01-01T00:00:00.000000000",
          "2002-01-01T00:00:00.000000000",
          "2003-01-01T00:00:00.000000000",
          "2004-01-01T00:00:00.000000000",
          "2005-01-01T00:00:00.000000000",
          "2006-01-01T00:00:00.000000000",
          "2007-01-01T00:00:00.000000000",
          "2008-01-01T00:00:00.000000000",
          "2009-01-01T00:00:00.000000000",
          "2010-01-01T00:00:00.000000000",
          "2011-01-01T00:00:00.000000000",
          "2012-01-01T00:00:00.000000000",
          "2013-01-01T00:00:00.000000000",
          "2014-01-01T00:00:00.000000000",
          "2015-01-01T00:00:00.000000000",
          "2016-01-01T00:00:00.000000000",
          "2017-01-01T00:00:00.000000000",
          "2018-01-01T00:00:00.000000000",
          "2019-01-01T00:00:00.000000000",
          "2020-01-01T00:00:00.000000000",
          "2021-01-01T00:00:00.000000000",
          "2022-01-01T00:00:00.000000000",
          "2023-01-01T00:00:00.000000000",
          "2024-01-01T00:00:00.000000000"
         ],
         "y": {
          "bdata": "MzMzMzMTakDNzMzMzExJQGZmZmZmIpxAMzMzMzPlrkAzMzMzM2WtQGZmZmZmZp5AZmZmZmZWl0BmZmZmZlKcQM3MzMzMHbFAAAAAAAApsEDNzMzMTMmxQM3MzMzMb7ZAMzMzMzN7sUBmZmZm5nOyQM3MzMxM/rNAZmZmZma1tUAAAAAAgNe0QGZmZmZmoblAAAAAAIBdu0CamZmZmY65QJqZmZkZ/bNAAAAAAICJsUCamZmZmSa4QM3MzMyMI8FAMzMzMzOiu0AzMzMzs2/BQJqZmZlZPsFAMzMzM/MwxkCamZmZWYbCQM3MzMzMusFAMzMzM7MGuUBmZmZm5ufAQAAAAABAisFAzczMzIyPxUAAAAAAgEjDQJqZmZkZLcBAZmZmZqb3wUBmZmZmZnm+QGZmZmamFcBAmpmZmZmDv0AzMzMzM465QJqZmZkZ1bhAzczMzMzZtEAAAAAAAH+5QGZmZmbmqLRAZmZmZmYntUAzMzMzsy63QAAAAACALLJAAAAAAIDbsECamZmZmQmwQJqZmZmZ769A",
          "dtype": "f8"
         }
        },
        {
         "name": "Waste Heat",
         "type": "scatter",
         "visible": false,
         "x": [
          "1974-01-01T00:00:00.000000000",
          "1975-01-01T00:00:00.000000000",
          "1976-01-01T00:00:00.000000000",
          "1977-01-01T00:00:00.000000000",
          "1978-01-01T00:00:00.000000000",
          "1979-01-01T00:00:00.000000000",
          "1980-01-01T00:00:00.000000000",
          "1981-01-01T00:00:00.000000000",
          "1982-01-01T00:00:00.000000000",
          "1983-01-01T00:00:00.000000000",
          "1984-01-01T00:00:00.000000000",
          "1985-01-01T00:00:00.000000000",
          "1986-01-01T00:00:00.000000000",
          "1987-01-01T00:00:00.000000000",
          "1988-01-01T00:00:00.000000000",
          "1989-01-01T00:00:00.000000000",
          "1990-01-01T00:00:00.000000000",
          "1991-01-01T00:00:00.000000000",
          "1992-01-01T00:00:00.000000000",
          "1993-01-01T00:00:00.000000000",
          "1994-01-01T00:00:00.000000000",
          "1995-01-01T00:00:00.000000000",
          "1996-01-01T00:00:00.000000000",
          "1997-01-01T00:00:00.000000000",
          "1998-01-01T00:00:00.000000000",
          "1999-01-01T00:00:00.000000000",
          "2000-01-01T00:00:00.000000000",
          "2001-01-01T00:00:00.000000000",
          "2002-01-01T00:00:00.000000000",
          "2003-01-01T00:00:00.000000000",
          "2004-01-01T00:00:00.000000000",
          "2005-01-01T00:00:00.000000000",
          "2006-01-01T00:00:00.000000000",
          "2007-01-01T00:00:00.000000000",
          "2008-01-01T00:00:00.000000000",
          "2009-01-01T00:00:00.000000000",
          "2010-01-01T00:00:00.000000000",
          "2011-01-01T00:00:00.000000000",
          "2012-01-01T00:00:00.000000000",
          "2013-01-01T00:00:00.000000000",
          "2014-01-01T00:00:00.000000000",
          "2015-01-01T00:00:00.000000000",
          "2016-01-01T00:00:00.000000000",
          "2017-01-01T00:00:00.000000000",
          "2018-01-01T00:00:00.000000000",
          "2019-01-01T00:00:00.000000000",
          "2020-01-01T00:00:00.000000000",
          "2021-01-01T00:00:00.000000000",
          "2022-01-01T00:00:00.000000000",
          "2023-01-01T00:00:00.000000000",
          "2024-01-01T00:00:00.000000000"
         ],
         "y": {
          "bdata": "ZmZmZmZmMkDNzMzMzAxFQAAAAAAAAElAAAAAAAAASUAAAAAAAABJQAAAAAAAAElAAAAAAAAASUAAAAAAAEBQQAAAAAAAgFFAAAAAAACAUUBmZmZmZmZQQJqZmZmZWU9AmpmZmZlZT0CamZmZmVlPQJqZmZmZWU9AzczMzMxMT0CamZmZmVlPQJqZmZmZWU9AmpmZmZlZT0CamZmZmVlPQJqZmZmZWU9AmpmZmZlZT0AAAAAAAIBPQJqZmZmZWU9AmpmZmZlZT0CamZmZmVlPQJqZmZmZWU9AmpmZmZmZR0BmZmZmZkZXQAAAAAAAIFVAAAAAAADAVEAzMzMzM/NSQDMzMzMz01FAMzMzMzNzSkDNzMzMzAxMQGZmZmZmpkpAmpmZmZmZTEBmZmZmZiZHQGZmZmZmpkFAmpmZmZkZRkAzMzMzM7NHQAAAAAAAgEhAAAAAAACASUAAAAAAAEBHQGZmZmZmpkhAMzMzMzOzRkDNzMzMzMxDQM3MzMzMjEVAmpmZmZnZQ0CamZmZmVlAQAAAAAAAgDpA",
          "dtype": "f8"
         }
        }
       ],
       "layout": {
        "margin": {
         "b": 100
        },
        "template": {
         "data": {
          "bar": [
           {
            "error_x": {
             "color": "#2a3f5f"
            },
            "error_y": {
             "color": "#2a3f5f"
            },
            "marker": {
             "line": {
              "color": "#E5ECF6",
              "width": 0.5
             },
             "pattern": {
              "fillmode": "overlay",
              "size": 10,
              "solidity": 0.2
             }
            },
            "type": "bar"
           }
          ],
          "barpolar": [
           {
            "marker": {
             "line": {
              "color": "#E5ECF6",
              "width": 0.5
             },
             "pattern": {
              "fillmode": "overlay",
              "size": 10,
              "solidity": 0.2
             }
            },
            "type": "barpolar"
           }
          ],
          "carpet": [
           {
            "aaxis": {
             "endlinecolor": "#2a3f5f",
             "gridcolor": "white",
             "linecolor": "white",
             "minorgridcolor": "white",
             "startlinecolor": "#2a3f5f"
            },
            "baxis": {
             "endlinecolor": "#2a3f5f",
             "gridcolor": "white",
             "linecolor": "white",
             "minorgridcolor": "white",
             "startlinecolor": "#2a3f5f"
            },
            "type": "carpet"
           }
          ],
          "choropleth": [
           {
            "colorbar": {
             "outlinewidth": 0,
             "ticks": ""
            },
            "type": "choropleth"
           }
          ],
          "contour": [
           {
            "colorbar": {
             "outlinewidth": 0,
             "ticks": ""
            },
            "colorscale": [
             [
              0,
              "#0d0887"
             ],
             [
              0.1111111111111111,
              "#46039f"
             ],
             [
              0.2222222222222222,
              "#7201a8"
             ],
             [
              0.3333333333333333,
              "#9c179e"
             ],
             [
              0.4444444444444444,
              "#bd3786"
             ],
             [
              0.5555555555555556,
              "#d8576b"
             ],
             [
              0.6666666666666666,
              "#ed7953"
             ],
             [
              0.7777777777777778,
              "#fb9f3a"
             ],
             [
              0.8888888888888888,
              "#fdca26"
             ],
             [
              1,
              "#f0f921"
             ]
            ],
            "type": "contour"
           }
          ],
          "contourcarpet": [
           {
            "colorbar": {
             "outlinewidth": 0,
             "ticks": ""
            },
            "type": "contourcarpet"
           }
          ],
          "heatmap": [
           {
            "colorbar": {
             "outlinewidth": 0,
             "ticks": ""
            },
            "colorscale": [
             [
              0,
              "#0d0887"
             ],
             [
              0.1111111111111111,
              "#46039f"
             ],
             [
              0.2222222222222222,
              "#7201a8"
             ],
             [
              0.3333333333333333,
              "#9c179e"
             ],
             [
              0.4444444444444444,
              "#bd3786"
             ],
             [
              0.5555555555555556,
              "#d8576b"
             ],
             [
              0.6666666666666666,
              "#ed7953"
             ],
             [
              0.7777777777777778,
              "#fb9f3a"
             ],
             [
              0.8888888888888888,
              "#fdca26"
             ],
             [
              1,
              "#f0f921"
             ]
            ],
            "type": "heatmap"
           }
          ],
          "histogram": [
           {
            "marker": {
             "pattern": {
              "fillmode": "overlay",
              "size": 10,
              "solidity": 0.2
             }
            },
            "type": "histogram"
           }
          ],
          "histogram2d": [
           {
            "colorbar": {
             "outlinewidth": 0,
             "ticks": ""
            },
            "colorscale": [
             [
              0,
              "#0d0887"
             ],
             [
              0.1111111111111111,
              "#46039f"
             ],
             [
              0.2222222222222222,
              "#7201a8"
             ],
             [
              0.3333333333333333,
              "#9c179e"
             ],
             [
              0.4444444444444444,
              "#bd3786"
             ],
             [
              0.5555555555555556,
              "#d8576b"
             ],
             [
              0.6666666666666666,
              "#ed7953"
             ],
             [
              0.7777777777777778,
              "#fb9f3a"
             ],
             [
              0.8888888888888888,
              "#fdca26"
             ],
             [
              1,
              "#f0f921"
             ]
            ],
            "type": "histogram2d"
           }
          ],
          "histogram2dcontour": [
           {
            "colorbar": {
             "outlinewidth": 0,
             "ticks": ""
            },
            "colorscale": [
             [
              0,
              "#0d0887"
             ],
             [
              0.1111111111111111,
              "#46039f"
             ],
             [
              0.2222222222222222,
              "#7201a8"
             ],
             [
              0.3333333333333333,
              "#9c179e"
             ],
             [
              0.4444444444444444,
              "#bd3786"
             ],
             [
              0.5555555555555556,
              "#d8576b"
             ],
             [
              0.6666666666666666,
              "#ed7953"
             ],
             [
              0.7777777777777778,
              "#fb9f3a"
             ],
             [
              0.8888888888888888,
              "#fdca26"
             ],
             [
              1,
              "#f0f921"
             ]
            ],
            "type": "histogram2dcontour"
           }
          ],
          "mesh3d": [
           {
            "colorbar": {
             "outlinewidth": 0,
             "ticks": ""
            },
            "type": "mesh3d"
           }
          ],
          "parcoords": [
           {
            "line": {
             "colorbar": {
              "outlinewidth": 0,
              "ticks": ""
             }
            },
            "type": "parcoords"
           }
          ],
          "pie": [
           {
            "automargin": true,
            "type": "pie"
           }
          ],
          "scatter": [
           {
            "fillpattern": {
             "fillmode": "overlay",
             "size": 10,
             "solidity": 0.2
            },
            "type": "scatter"
           }
          ],
          "scatter3d": [
           {
            "line": {
             "colorbar": {
              "outlinewidth": 0,
              "ticks": ""
             }
            },
            "marker": {
             "colorbar": {
              "outlinewidth": 0,
              "ticks": ""
             }
            },
            "type": "scatter3d"
           }
          ],
          "scattercarpet": [
           {
            "marker": {
             "colorbar": {
              "outlinewidth": 0,
              "ticks": ""
             }
            },
            "type": "scattercarpet"
           }
          ],
          "scattergeo": [
           {
            "marker": {
             "colorbar": {
              "outlinewidth": 0,
              "ticks": ""
             }
            },
            "type": "scattergeo"
           }
          ],
          "scattergl": [
           {
            "marker": {
             "colorbar": {
              "outlinewidth": 0,
              "ticks": ""
             }
            },
            "type": "scattergl"
           }
          ],
          "scattermap": [
           {
            "marker": {
             "colorbar": {
              "outlinewidth": 0,
              "ticks": ""
             }
            },
            "type": "scattermap"
           }
          ],
          "scattermapbox": [
           {
            "marker": {
             "colorbar": {
              "outlinewidth": 0,
              "ticks": ""
             }
            },
            "type": "scattermapbox"
           }
          ],
          "scatterpolar": [
           {
            "marker": {
             "colorbar": {
              "outlinewidth": 0,
              "ticks": ""
             }
            },
            "type": "scatterpolar"
           }
          ],
          "scatterpolargl": [
           {
            "marker": {
             "colorbar": {
              "outlinewidth": 0,
              "ticks": ""
             }
            },
            "type": "scatterpolargl"
           }
          ],
          "scatterternary": [
           {
            "marker": {
             "colorbar": {
              "outlinewidth": 0,
              "ticks": ""
             }
            },
            "type": "scatterternary"
           }
          ],
          "surface": [
           {
            "colorbar": {
             "outlinewidth": 0,
             "ticks": ""
            },
            "colorscale": [
             [
              0,
              "#0d0887"
             ],
             [
              0.1111111111111111,
              "#46039f"
             ],
             [
              0.2222222222222222,
              "#7201a8"
             ],
             [
              0.3333333333333333,
              "#9c179e"
             ],
             [
              0.4444444444444444,
              "#bd3786"
             ],
             [
              0.5555555555555556,
              "#d8576b"
             ],
             [
              0.6666666666666666,
              "#ed7953"
             ],
             [
              0.7777777777777778,
              "#fb9f3a"
             ],
             [
              0.8888888888888888,
              "#fdca26"
             ],
             [
              1,
              "#f0f921"
             ]
            ],
            "type": "surface"
           }
          ],
          "table": [
           {
            "cells": {
             "fill": {
              "color": "#EBF0F8"
             },
             "line": {
              "color": "white"
             }
            },
            "header": {
             "fill": {
              "color": "#C8D4E3"
             },
             "line": {
              "color": "white"
             }
            },
            "type": "table"
           }
          ]
         },
         "layout": {
          "annotationdefaults": {
           "arrowcolor": "#2a3f5f",
           "arrowhead": 0,
           "arrowwidth": 1
          },
          "autotypenumbers": "strict",
          "coloraxis": {
           "colorbar": {
            "outlinewidth": 0,
            "ticks": ""
           }
          },
          "colorscale": {
           "diverging": [
            [
             0,
             "#8e0152"
            ],
            [
             0.1,
             "#c51b7d"
            ],
            [
             0.2,
             "#de77ae"
            ],
            [
             0.3,
             "#f1b6da"
            ],
            [
             0.4,
             "#fde0ef"
            ],
            [
             0.5,
             "#f7f7f7"
            ],
            [
             0.6,
             "#e6f5d0"
            ],
            [
             0.7,
             "#b8e186"
            ],
            [
             0.8,
             "#7fbc41"
            ],
            [
             0.9,
             "#4d9221"
            ],
            [
             1,
             "#276419"
            ]
           ],
           "sequential": [
            [
             0,
             "#0d0887"
            ],
            [
             0.1111111111111111,
             "#46039f"
            ],
            [
             0.2222222222222222,
             "#7201a8"
            ],
            [
             0.3333333333333333,
             "#9c179e"
            ],
            [
             0.4444444444444444,
             "#bd3786"
            ],
            [
             0.5555555555555556,
             "#d8576b"
            ],
            [
             0.6666666666666666,
             "#ed7953"
            ],
            [
             0.7777777777777778,
             "#fb9f3a"
            ],
            [
             0.8888888888888888,
             "#fdca26"
            ],
            [
             1,
             "#f0f921"
            ]
           ],
           "sequentialminus": [
            [
             0,
             "#0d0887"
            ],
            [
             0.1111111111111111,
             "#46039f"
            ],
            [
             0.2222222222222222,
             "#7201a8"
            ],
            [
             0.3333333333333333,
             "#9c179e"
            ],
            [
             0.4444444444444444,
             "#bd3786"
            ],
            [
             0.5555555555555556,
             "#d8576b"
            ],
            [
             0.6666666666666666,
             "#ed7953"
            ],
            [
             0.7777777777777778,
             "#fb9f3a"
            ],
            [
             0.8888888888888888,
             "#fdca26"
            ],
            [
             1,
             "#f0f921"
            ]
           ]
          },
          "colorway": [
           "#636efa",
           "#EF553B",
           "#00cc96",
           "#ab63fa",
           "#FFA15A",
           "#19d3f3",
           "#FF6692",
           "#B6E880",
           "#FF97FF",
           "#FECB52"
          ],
          "font": {
           "color": "#2a3f5f"
          },
          "geo": {
           "bgcolor": "white",
           "lakecolor": "white",
           "landcolor": "#E5ECF6",
           "showlakes": true,
           "showland": true,
           "subunitcolor": "white"
          },
          "hoverlabel": {
           "align": "left"
          },
          "hovermode": "closest",
          "mapbox": {
           "style": "light"
          },
          "paper_bgcolor": "white",
          "plot_bgcolor": "#E5ECF6",
          "polar": {
           "angularaxis": {
            "gridcolor": "white",
            "linecolor": "white",
            "ticks": ""
           },
           "bgcolor": "#E5ECF6",
           "radialaxis": {
            "gridcolor": "white",
            "linecolor": "white",
            "ticks": ""
           }
          },
          "scene": {
           "xaxis": {
            "backgroundcolor": "#E5ECF6",
            "gridcolor": "white",
            "gridwidth": 2,
            "linecolor": "white",
            "showbackground": true,
            "ticks": "",
            "zerolinecolor": "white"
           },
           "yaxis": {
            "backgroundcolor": "#E5ECF6",
            "gridcolor": "white",
            "gridwidth": 2,
            "linecolor": "white",
            "showbackground": true,
            "ticks": "",
            "zerolinecolor": "white"
           },
           "zaxis": {
            "backgroundcolor": "#E5ECF6",
            "gridcolor": "white",
            "gridwidth": 2,
            "linecolor": "white",
            "showbackground": true,
            "ticks": "",
            "zerolinecolor": "white"
           }
          },
          "shapedefaults": {
           "line": {
            "color": "#2a3f5f"
           }
          },
          "ternary": {
           "aaxis": {
            "gridcolor": "white",
            "linecolor": "white",
            "ticks": ""
           },
           "baxis": {
            "gridcolor": "white",
            "linecolor": "white",
            "ticks": ""
           },
           "bgcolor": "#E5ECF6",
           "caxis": {
            "gridcolor": "white",
            "linecolor": "white",
            "ticks": ""
           }
          },
          "title": {
           "x": 0.05
          },
          "xaxis": {
           "automargin": true,
           "gridcolor": "white",
           "linecolor": "white",
           "ticks": "",
           "title": {
            "standoff": 15
           },
           "zerolinecolor": "white",
           "zerolinewidth": 2
          },
          "yaxis": {
           "automargin": true,
           "gridcolor": "white",
           "linecolor": "white",
           "ticks": "",
           "title": {
            "standoff": 15
           },
           "zerolinecolor": "white",
           "zerolinewidth": 2
          }
         }
        },
        "updatemenus": [
         {
          "active": 0,
          "buttons": [
           {
            "args": [
             {
              "visible": [
               true,
               false,
               false,
               false,
               false,
               false,
               false,
               false,
               false,
               false,
               false
              ]
             },
             {}
            ],
            "label": "Net Generation (GWh)",
            "method": "update"
           },
           {
            "args": [
             {
              "visible": [
               false,
               true,
               false,
               false,
               false,
               false,
               false,
               false,
               false,
               false,
               false
              ]
             },
             {}
            ],
            "label": "Hydro",
            "method": "update"
           },
           {
            "args": [
             {
              "visible": [
               false,
               false,
               true,
               false,
               false,
               false,
               false,
               false,
               false,
               false,
               false
              ]
             },
             {}
            ],
            "label": "Geothermal",
            "method": "update"
           },
           {
            "args": [
             {
              "visible": [
               false,
               false,
               false,
               true,
               false,
               false,
               false,
               false,
               false,
               false,
               false
              ]
             },
             {}
            ],
            "label": "Biogas",
            "method": "update"
           },
           {
            "args": [
             {
              "visible": [
               false,
               false,
               false,
               false,
               true,
               false,
               false,
               false,
               false,
               false,
               false
              ]
             },
             {}
            ],
            "label": "Wood",
            "method": "update"
           },
           {
            "args": [
             {
              "visible": [
               false,
               false,
               false,
               false,
               false,
               true,
               false,
               false,
               false,
               false,
               false
              ]
             },
             {}
            ],
            "label": "Wind",
            "method": "update"
           },
           {
            "args": [
             {
              "visible": [
               false,
               false,
               false,
               false,
               false,
               false,
               true,
               false,
               false,
               false,
               false
              ]
             },
             {}
            ],
            "label": "Solar",
            "method": "update"
           },
           {
            "args": [
             {
              "visible": [
               false,
               false,
               false,
               false,
               false,
               false,
               false,
               true,
               false,
               false,
               false
              ]
             },
             {}
            ],
            "label": "Oil",
            "method": "update"
           },
           {
            "args": [
             {
              "visible": [
               false,
               false,
               false,
               false,
               false,
               false,
               false,
               false,
               true,
               false,
               false
              ]
             },
             {}
            ],
            "label": "Coal",
            "method": "update"
           },
           {
            "args": [
             {
              "visible": [
               false,
               false,
               false,
               false,
               false,
               false,
               false,
               false,
               false,
               true,
               false
              ]
             },
             {}
            ],
            "label": "Gas",
            "method": "update"
           },
           {
            "args": [
             {
              "visible": [
               false,
               false,
               false,
               false,
               false,
               false,
               false,
               false,
               false,
               false,
               true
              ]
             },
             {}
            ],
            "label": "Waste Heat",
            "method": "update"
           }
          ],
          "direction": "down",
          "showactive": true,
          "x": 1.05,
          "xanchor": "left",
          "y": 0.5,
          "yanchor": "middle"
         }
        ],
        "xaxis": {
         "title": {
          "text": "Year"
         }
        },
        "yaxis": {
         "title": {
          "text": "GWh"
         }
        }
       }
      },
      "image/png": "[encoded data removed]"
     },
     "metadata": {},
     "output_type": "display_data"
    },
    {
     "data": {
      "text/html": [
       "\n",
       "    <div style=\"margin: 20px; text-align: left;\">\n",
       "        <a href=\"data:file/csv;base64,LE5ldCBHZW5lcmF0aW9uIChHV2gpLEh5ZHJvLEdlb3RoZXJtYWwsQmlvZ2FzLFdvb2QsV2luZCxTb2xhcixPaWwsQ29hbCxHYXMsV2FzdGUgSGVhdAoxOTc0LTAxLTAxLDIwNDc5LjIsMTUwMzcuMCwxMzU4LjAsNy42LDYwOS41LDAuMCwwLjAsMTk0My4wLDEyOTcuMCwyMDguNiwxOC40CjE5NzUtMDEtMDEsMjA0MjMuNiwxNjQ5Ny4wLDEzNTAuMCw0MS4zLDYwOS41LDAuMCwwLjAsNzg3LjAsMTA0Ni4wLDUwLjYsNDIuMQoxOTc2LTAxLTAxLDIxNTIzLjgsMTUzNDQuMCwxMjkwLjAsNTIuNiw2MDkuNSwwLjAsMC4wLDEyODAuMCwxMDk3LjAsMTgwMC42LDUwLjAKMTk3Ny0wMS0wMSwyMjA5NS44LDE0NTczLjAsMTIxNy4wLDUyLjYsNjA5LjUsMC4wLDAuMCw3MjkuMCw5MTAuMCwzOTU0LjYsNTAuMAoxOTc4LTAxLTAxLDIyMTU3LjgsMTU1MDMuMCwxMjM5LjAsNTIuNiw2MDkuNSwwLjAsMC4wLDE5OS4wLDc0Mi4xLDM3NjIuNiw1MC4wCjE5NzktMDEtMDEsMjI0NzguMCwxODI1OS4wLDExMTguMCw1Ni4yLDYwOS41LDAuMCwwLjAsNDguMCwzOTEuNywxOTQ1LjYsNTAuMAoxOTgwLTAxLTAxLDIzMDE2LjEsMTkxNzEuMCwxMjA2LjAsNTcuNCw2MDkuNSwwLjAsMC4wLDMuMCw0MjUuNSwxNDkzLjYsNTAuMAoxOTgxLTAxLTAxLDIzNTk0LjksMTk0ODMuMCwxMTQxLjAsOTEuMSw2MDkuNSwwLjAsMC4wLDMuMCwzODkuNSwxODEyLjYsNjUuMAoxOTgyLTAxLTAxLDI0ODc5LjIsMTgxMjEuMCwxMTU4LjAsMTAyLjQsNjA5LjUsMC4wLDAuMCwxNS4wLDQyMS41LDQzODEuOCw3MC4wCjE5ODMtMDEtMDEsMjY0NDQuNywxOTU1NC4wLDExNzMuMCwxMDQuNiw2MDkuNSwwLjAsMC4wLDE0Ni4wLDY1MC41LDQxMzcuMCw3MC4wCjE5ODQtMDEtMDEsMjc1NTcuMCwyMDE3My4wLDEyOTQuMCwxMDUuMyw2MzIuMiwwLjAsMC4wLDUuMCw3MjguNSw0NTUzLjMsNjUuNgoxOTg1LTAxLTAxLDI3OTkyLjEsMTk1MTAuOCwxMTY0LjYsMTA1LjMsNjM5LjgsMC4wLDAuMCw0Ny42LDcxNy41LDU3NDMuOCw2Mi43CjE5ODYtMDEtMDEsMjg5NTUuNCwyMTg3Ni43LDEyMzMuOCwxMDUuMyw2MzkuOCwwLjAsMC4wLDYuMyw1NTUuNiw0NDc1LjIsNjIuNwoxOTg3LTAxLTAxLDI5MzI0LjIsMjE3MDkuMywxMjI4LjQsMTA1LjgsNjM5LjgsMC4wLDAuMCw5LjEsODQ1LjEsNDcyMy45LDYyLjcKMTk4OC0wMS0wMSwzMDYyNi42LDIyNzMzLjAsMTIzNy4yLDEwNS45LDYzOS44LDAuMCwwLjAsNi44LDcyMi44LDUxMTguMyw2Mi43CjE5ODktMDEtMDEsMzA4NDkuMywyMjMzMy4zLDE3MDUuNSwxMDUuOSw2MzcuOCwwLjAsMC4wLDAuNSw0NDYuMiw1NTU3LjQsNjIuNgoxOTkwLTAxLTAxLDMxNzg2LjYsMjI5NTMuNCwyMDEwLjksMTMwLjgsNjYzLjYsMC4wLDAuMCw5LjIsNjIwLjUsNTMzNS41LDYyLjcKMTk5MS0wMS0wMSwzMjcyOS42LDIyNjY1LjUsMjE1OC4wLDE1MS41LDY1Ni4zLDAuMCwwLjAsMjMuNiw0NTAuNyw2NTYxLjQsNjIuNwoxOTkyLTAxLTAxLDMyMjI5LjIsMjA4ODEuNywyMTMxLjAsMTU1LjYsNjI5LjIsMC43LDAuMCwxOTIuMSwxMTcwLjYsNzAwNS41LDYyLjcKMTk5My0wMS0wMSwzMzY3Ni4zLDIzMjU4LjAsMjI0Ny4wLDE1NS42LDY1NC42LDEuMCwwLjAsNTkuMCw2OTUuOCw2NTQyLjYsNjIuNwoxOTk0LTAxLTAxLDM0MzQ3LjAsMjU1NzguNywyMTAxLjAsMTYyLjQsNjU3LjYsMS4wLDAuMCwyMC4wLDY0Ni42LDUxMTcuMSw2Mi43CjE5OTUtMDEtMDEsMzU1NzUuNSwyNzI1OS40LDIwMzguOSwxNzIuMiw2NjIuMiwxLjAsMC4wLDQ3LjksODQxLjcsNDQ4OS41LDYyLjcKMTk5Ni0wMS0wMSwzNTg2OS43LDI1OTIxLjEsMjAzOC40LDE0NS44LDYxOS42LDguMiwwLjAsMTQuNiw4NzYuMyw2MTgyLjYsNjMuMAoxOTk3LTAxLTAxLDM2MzA1LjcsMjMwMjUuNiwyMTMwLjQsMTM5LjQsNjI0LjQsMTMuNSwwLjAsMC4wLDE1MzQuNyw4Nzc1LjEsNjIuNwoxOTk4LTAxLTAxLDM2NzMzLjYsMjUwNjYuMSwyMzg1LjUsMTM2LjcsNjIwLjMsMjEuOCwwLjAsMS4wLDEzNjUuMyw3MDc0LjIsNjIuNwoxOTk5LTAxLTAxLDM2Nzc1LjcsMjI2OTAuMywyNjM1LjgsMTE2LjEsNjI2LjYsMzguNiwwLjAsMC4wLDE2NzguMiw4OTI3LjQsNjIuNwoyMDAwLTAxLTAxLDM4MjAwLjEsMjQxOTAuNiwyNzU2LjAsMTAyLjgsNjk1LjAsMTE5LjAsMC4wLDAuMCwxNDQ1LjIsODgyOC43LDYyLjcKMjAwMS0wMS0wMSwzODM0My45LDIxNDY0LjQsMjY3Ny44LDEwMC45LDU3NC42LDEzNy42LDAuMCwwLjAsMTk3OS42LDExMzYxLjksNDcuMgoyMDAyLTAxLTAxLDM5NDgyLjMsMjQ2MjYuMCwyNjU0LjcsMTMwLjksNDEzLjAsMTUzLjksMC4wLDAuMCwxOTI1LjksOTQ4NC43LDkzLjEKMjAwMy0wMS0wMSwzOTUyOC41LDIzMzg4LjgsMjU5NC42LDE2Ny4zLDM1MC44LDE0NS4xLDAuMCwxOS4xLDM3MDAuNiw5MDc3LjYsODQuNQoyMDA0LTAxLTAxLDQxNTI5LjYsMjY5NjkuOSwyNjMxLjEsMTg1LjksNDA4LjAsMzU3LjksMC4wLDIyLjcsNDQ2NC40LDY0MDYuNyw4My4wCjIwMDUtMDEtMDEsNDE1MjguMiwyMzA5Ni41LDI5ODAuNywxOTAuMSw0NDYuNCw2MDguMiwwLjAsMy42LDU0NzEuMSw4NjU1LjgsNzUuOAoyMDA2LTAxLTAxLDQyMDY0LjgsMjMzMzkuNywzMTc3LjMsMjE4LjEsNDcyLjYsNjE2LjAsMC4wLDIyLjYsNTE2Ni44LDg5ODAuNSw3MS4zCjIwMDctMDEtMDEsNDI0MjIuOSwyMzQwNi4zLDMzNTMuNywyMTAuNSw0ODEuMyw5MjAuNiwzLjQsMS4yLDI5NTMuOSwxMTAzOS4xLDUyLjkKMjAwOC0wMS0wMSw0MjM5NC4xLDIyMTI2LjEsMzk2Ni4xLDIwMi42LDQ3OS42LDEwNDcuOSwzLjQsMTIzLjgsNDUxNS41LDk4NzMuMCw1Ni4xCjIwMDktMDEtMDEsNDIxNzIuNCwyMzk3Ny41LDQ1ODkuMywyMTUuMCw0OTkuMSwxNDYxLjcsMy42LDkuMCwzMDgxLjcsODI4Mi4yLDUzLjMKMjAxMC0wMS0wMSw0MzU3MC45LDI0NDgxLjUsNTU1OC42LDIxNy41LDUwMi4yLDE2MTkuOSwzLjgsMi4wLDE5MjguOSw5MTk5LjMsNTcuMgoyMDExLTAxLTAxLDQzMjcwLjUsMjQ4NjEuOCw1ODg0LjEsMjE4LjIsNDg4LjIsMTkzNi41LDQuMSwyLjEsMjAyNy45LDc4MDEuNCw0Ni4zCjIwMTItMDEtMDEsNDMxNTAuOCwyMjY2OS45LDYwODMuNiwyMTEuMCw1MzIuOCwyMDU3LjIsNC44LDMuNCwzMzE3LjUsODIzNS4zLDM1LjMKMjAxMy0wMS0wMSw0MjM4OS4wLDIyODMwLjEsNjQ0OC43LDIwMi43LDU0Ny45LDIwMDAuNSw2LjYsMy40LDIyMzcuMiw4MDY3LjYsNDQuMgoyMDE0LTAxLTAxLDQyNzAxLjcsMjQxMjUuMSw3MTk1LjEsMjI3LjgsNTIyLjEsMjE4OC44LDE4LjYsMy4xLDE4MzEuMyw2NTQyLjIsNDcuNAoyMDE1LTAxLTAxLDQzMzg4LjIsMjQzMzkuMyw3NzQ4LjYsMjQ0LjAsNTE4LjgsMjM0MC41LDM2LjUsMS40LDE3NTMuMCw2MzU3LjEsNDkuMAoyMDE2LTAxLTAxLDQyOTM4LjcsMjU3MDkuNyw3NzM3LjksMjU5LjksNDk2LjEsMjMwNy42LDU2LjIsMy4xLDk3OS41LDUzMzcuOCw1MS4wCjIwMTctMDEtMDEsNDMzMTAuNSwyNDkzMC4zLDc3NzkuMSwyNjMuMSw0ODUuMSwyMDY0LjQsNzYuMyw1LjUsMTEzMy4xLDY1MjcuMCw0Ni41CjIwMTgtMDEtMDEsNDM0NzUuMywyNjA0Mi42LDc3MjkuMywyNjEuNSw0NjIuOCwyMDUwLjksOTkuNywxMC45LDE0NzkuNCw1Mjg4LjksNDkuMwoyMDE5LTAxLTAxLDQzODg4LjQsMjUzOTcuMyw3NzkzLjQsMjY3LjAsNDcyLjQsMjI0OC45LDEyNi42LDMuOSwyMTE4LjEsNTQxNS40LDQ1LjQKMjAyMC0wMS0wMSw0MzI0Mi43LDI0MDc4LjAsNzgzMy42LDI3MS40LDQ1OS42LDIyOTQuNCwxNTkuNSwxMy4wLDIxNTguOSw1OTM0LjcsMzkuNgoyMDIxLTAxLTAxLDQzMjQ5LjYsMjM5NzkuMiw3OTY4LjMsMjYzLjAsNDgzLjIsMjYwNi4wLDIwOC40LDI1LjgsMzAyMC4yLDQ2NTIuNSw0My4xCjIwMjItMDEtMDEsNDM1MjUuNiwyNjA3MS41LDgwMTMuNCwyNzAuOCw0MzguOCwyODM0LjgsMjgyLjcsNy4wLDEyNTEuNCw0MzE1LjUsMzkuNwoyMDIzLTAxLTAxLDQzNTYwLjQsMjYzODAuOCw3NzMyLjQsMjk1LjAsNDAzLjAsMzIwNC4yLDM3MS4xLDQuNiwxMDMxLjIsNDEwNS42LDMyLjcKMjAyNC0wMS0wMSw0Mzk5NS41LDIzNjA0LjgsODc0MC44LDMwNy4wLDQ0MS45LDM5MTcuNiw2MDEuMiwyNC45LDIyNDMuMCw0MDg3LjgsMjYuNQo=\" \n",
       "           download=\"generation_data.csv\"\n",
       "           style=\"padding: 10px 20px; \n",
       "                  background-color: #0074D9; \n",
       "                  color: white; \n",
       "                  text-decoration: none;\n",
       "                  border-radius: 5px;\n",
       "                  font-family: Arial, sans-serif;\">\n",
       "            Download Generation Data (CSV)\n",
       "        </a>\n",
       "    </div>\n",
       "    "
      ],
      "text/plain": [
       "<IPython.core.display.HTML object>"
      ]
     },
     "metadata": {},
     "output_type": "display_data"
    }
   ],
   "source": [
    "import importlib\n",
    "import generation_plot\n",
    "importlib.reload(generation_plot)\n",
    "from generation_plot import create_generation_plot\n",
    "\n",
    "fig, show_plot = create_generation_plot()\n",
    "show_plot()"
   ]
  },
  {
   "cell_type": "markdown",
   "id": "0f3fedd9-083c-4bc9-9c2e-b643d11cade2",
   "metadata": {},
   "source": [
    "# Electricity Line Loss Plot"
   ]
  },
  {
   "cell_type": "code",
   "execution_count": 8,
   "id": "e4f446aa-ddea-4c41-9c53-0f6e9a104bec",
   "metadata": {},
   "outputs": [
    {
     "data": {
      "application/vnd.plotly.v1+json": {
       "config": {
        "plotlyServerURL": "https://plot.ly"
       },
       "data": [
        {
         "name": "Total Line Losses (GWh)",
         "type": "scatter",
         "visible": true,
         "x": [
          "1990-01-01T00:00:00.000000000",
          "1991-01-01T00:00:00.000000000",
          "1992-01-01T00:00:00.000000000",
          "1993-01-01T00:00:00.000000000",
          "1994-01-01T00:00:00.000000000",
          "1995-01-01T00:00:00.000000000",
          "1996-01-01T00:00:00.000000000",
          "1997-01-01T00:00:00.000000000",
          "1998-01-01T00:00:00.000000000",
          "1999-01-01T00:00:00.000000000",
          "2000-01-01T00:00:00.000000000",
          "2001-01-01T00:00:00.000000000",
          "2002-01-01T00:00:00.000000000",
          "2003-01-01T00:00:00.000000000",
          "2004-01-01T00:00:00.000000000",
          "2005-01-01T00:00:00.000000000",
          "2006-01-01T00:00:00.000000000",
          "2007-01-01T00:00:00.000000000",
          "2008-01-01T00:00:00.000000000",
          "2009-01-01T00:00:00.000000000",
          "2010-01-01T00:00:00.000000000",
          "2011-01-01T00:00:00.000000000",
          "2012-01-01T00:00:00.000000000",
          "2013-01-01T00:00:00.000000000",
          "2014-01-01T00:00:00.000000000",
          "2015-01-01T00:00:00.000000000",
          "2016-01-01T00:00:00.000000000",
          "2017-01-01T00:00:00.000000000",
          "2018-01-01T00:00:00.000000000",
          "2019-01-01T00:00:00.000000000",
          "2020-01-01T00:00:00.000000000",
          "2021-01-01T00:00:00.000000000",
          "2022-01-01T00:00:00.000000000",
          "2023-01-01T00:00:00.000000000",
          "2024-01-01T00:00:00.000000000"
         ],
         "y": {
          "bdata": "MzMzMzPRokAAAAAAAMqiQGZmZmZmwaJAzczMzMwxo0BmZmZmZtSjQGZmZmZmbKRAAAAAAABnpEAzMzMzM2KlQGZmZmZm3KVAmpmZmZmipUDNzMzMzMinQDMzMzMzp6dAZmZmZmaKp0CamZmZmZmmQAAAAAAAZKdAAAAAAABEp0BmZmZmZoWnQM3MzMzMqadAzczMzMxzqECamZmZmWCnQAAAAAAAPKhAmpmZmZltp0DNzMzMzHOnQDMzMzMznqZAAAAAAABGpkAzMzMzM6GmQDMzMzMzFqdAZmZmZmYAp0AAAAAAAPymQDMzMzMzcadAZmZmZmY3p0BmZmZmZmqnQDMzMzMzt6dAMzMzMzOQp0BmZmZmZr6nQA==",
          "dtype": "f8"
         }
        },
        {
         "name": "Losses - Transmission",
         "type": "scatter",
         "visible": false,
         "x": [
          "1990-01-01T00:00:00.000000000",
          "1991-01-01T00:00:00.000000000",
          "1992-01-01T00:00:00.000000000",
          "1993-01-01T00:00:00.000000000",
          "1994-01-01T00:00:00.000000000",
          "1995-01-01T00:00:00.000000000",
          "1996-01-01T00:00:00.000000000",
          "1997-01-01T00:00:00.000000000",
          "1998-01-01T00:00:00.000000000",
          "1999-01-01T00:00:00.000000000",
          "2000-01-01T00:00:00.000000000",
          "2001-01-01T00:00:00.000000000",
          "2002-01-01T00:00:00.000000000",
          "2003-01-01T00:00:00.000000000",
          "2004-01-01T00:00:00.000000000",
          "2005-01-01T00:00:00.000000000",
          "2006-01-01T00:00:00.000000000",
          "2007-01-01T00:00:00.000000000",
          "2008-01-01T00:00:00.000000000",
          "2009-01-01T00:00:00.000000000",
          "2010-01-01T00:00:00.000000000",
          "2011-01-01T00:00:00.000000000",
          "2012-01-01T00:00:00.000000000",
          "2013-01-01T00:00:00.000000000",
          "2014-01-01T00:00:00.000000000",
          "2015-01-01T00:00:00.000000000",
          "2016-01-01T00:00:00.000000000",
          "2017-01-01T00:00:00.000000000",
          "2018-01-01T00:00:00.000000000",
          "2019-01-01T00:00:00.000000000",
          "2020-01-01T00:00:00.000000000",
          "2021-01-01T00:00:00.000000000",
          "2022-01-01T00:00:00.000000000",
          "2023-01-01T00:00:00.000000000",
          "2024-01-01T00:00:00.000000000"
         ],
         "y": {
          "bdata": "AAAAAACWkkCamZmZmeGSQGZmZmZmhpJAmpmZmZlJk0AzMzMzM62TQAAAAAAAGJRAMzMzMzODk0AAAAAAAO6UQJqZmZmZgZVAAAAAAAAslUBmZmZmZiSYQAAAAAAA7JZAMzMzMzOPlkAzMzMzM1uUQGZmZmZmvpRAzczMzMzkk0AzMzMzMwmVQDMzMzMz6ZRAZmZmZmamlkAAAAAAAByVQGZmZmZmOpVAMzMzMzN7lEAzMzMzM6uVQAAAAAAAZJRAAAAAAACOk0BmZmZmZnKTQGZmZmZm0JVAMzMzMzN7lUBmZmZmZsSVQAAAAAAA+pVAMzMzMzMdlUDNzMzMzGKVQJqZmZmZ35ZAZmZmZmb4lUAAAAAAAMSVQA==",
          "dtype": "f8"
         }
        },
        {
         "name": "Losses - Distribution",
         "type": "scatter",
         "visible": false,
         "x": [
          "1990-01-01T00:00:00.000000000",
          "1991-01-01T00:00:00.000000000",
          "1992-01-01T00:00:00.000000000",
          "1993-01-01T00:00:00.000000000",
          "1994-01-01T00:00:00.000000000",
          "1995-01-01T00:00:00.000000000",
          "1996-01-01T00:00:00.000000000",
          "1997-01-01T00:00:00.000000000",
          "1998-01-01T00:00:00.000000000",
          "1999-01-01T00:00:00.000000000",
          "2000-01-01T00:00:00.000000000",
          "2001-01-01T00:00:00.000000000",
          "2002-01-01T00:00:00.000000000",
          "2003-01-01T00:00:00.000000000",
          "2004-01-01T00:00:00.000000000",
          "2005-01-01T00:00:00.000000000",
          "2006-01-01T00:00:00.000000000",
          "2007-01-01T00:00:00.000000000",
          "2008-01-01T00:00:00.000000000",
          "2009-01-01T00:00:00.000000000",
          "2010-01-01T00:00:00.000000000",
          "2011-01-01T00:00:00.000000000",
          "2012-01-01T00:00:00.000000000",
          "2013-01-01T00:00:00.000000000",
          "2014-01-01T00:00:00.000000000",
          "2015-01-01T00:00:00.000000000",
          "2016-01-01T00:00:00.000000000",
          "2017-01-01T00:00:00.000000000",
          "2018-01-01T00:00:00.000000000",
          "2019-01-01T00:00:00.000000000",
          "2020-01-01T00:00:00.000000000",
          "2021-01-01T00:00:00.000000000",
          "2022-01-01T00:00:00.000000000",
          "2023-01-01T00:00:00.000000000",
          "2024-01-01T00:00:00.000000000"
         ],
         "y": {
          "bdata": "ZmZmZmYGk0AzMzMzM6mSQM3MzMzM5pJAzczMzMwyk0DNzMzMzOSTQDMzMzMzuZRAZmZmZmZMlUAAAAAAAOCVQAAAAAAAKpZAMzMzMzMblkAAAAAAAGiXQAAAAAAAaJhAzczMzMyCmECamZmZmdGYQAAAAAAABJpAAAAAAAComkDNzMzMzACaQDMzMzMzaZpAMzMzMzM5mkAAAAAAAK6ZQGZmZmZmOJtAAAAAAABomkDNzMzMzECZQM3MzMzM2JhAAAAAAAD+mECamZmZmc+ZQJqZmZmZW5hAmpmZmZmFmECamZmZmTOYQGZmZmZm6JhAmpmZmZlRmUAAAAAAAHKZQM3MzMzMjphAAAAAAAAomUDNzMzMzLiZQA==",
          "dtype": "f8"
         }
        }
       ],
       "layout": {
        "margin": {
         "b": 100
        },
        "template": {
         "data": {
          "bar": [
           {
            "error_x": {
             "color": "#2a3f5f"
            },
            "error_y": {
             "color": "#2a3f5f"
            },
            "marker": {
             "line": {
              "color": "#E5ECF6",
              "width": 0.5
             },
             "pattern": {
              "fillmode": "overlay",
              "size": 10,
              "solidity": 0.2
             }
            },
            "type": "bar"
           }
          ],
          "barpolar": [
           {
            "marker": {
             "line": {
              "color": "#E5ECF6",
              "width": 0.5
             },
             "pattern": {
              "fillmode": "overlay",
              "size": 10,
              "solidity": 0.2
             }
            },
            "type": "barpolar"
           }
          ],
          "carpet": [
           {
            "aaxis": {
             "endlinecolor": "#2a3f5f",
             "gridcolor": "white",
             "linecolor": "white",
             "minorgridcolor": "white",
             "startlinecolor": "#2a3f5f"
            },
            "baxis": {
             "endlinecolor": "#2a3f5f",
             "gridcolor": "white",
             "linecolor": "white",
             "minorgridcolor": "white",
             "startlinecolor": "#2a3f5f"
            },
            "type": "carpet"
           }
          ],
          "choropleth": [
           {
            "colorbar": {
             "outlinewidth": 0,
             "ticks": ""
            },
            "type": "choropleth"
           }
          ],
          "contour": [
           {
            "colorbar": {
             "outlinewidth": 0,
             "ticks": ""
            },
            "colorscale": [
             [
              0,
              "#0d0887"
             ],
             [
              0.1111111111111111,
              "#46039f"
             ],
             [
              0.2222222222222222,
              "#7201a8"
             ],
             [
              0.3333333333333333,
              "#9c179e"
             ],
             [
              0.4444444444444444,
              "#bd3786"
             ],
             [
              0.5555555555555556,
              "#d8576b"
             ],
             [
              0.6666666666666666,
              "#ed7953"
             ],
             [
              0.7777777777777778,
              "#fb9f3a"
             ],
             [
              0.8888888888888888,
              "#fdca26"
             ],
             [
              1,
              "#f0f921"
             ]
            ],
            "type": "contour"
           }
          ],
          "contourcarpet": [
           {
            "colorbar": {
             "outlinewidth": 0,
             "ticks": ""
            },
            "type": "contourcarpet"
           }
          ],
          "heatmap": [
           {
            "colorbar": {
             "outlinewidth": 0,
             "ticks": ""
            },
            "colorscale": [
             [
              0,
              "#0d0887"
             ],
             [
              0.1111111111111111,
              "#46039f"
             ],
             [
              0.2222222222222222,
              "#7201a8"
             ],
             [
              0.3333333333333333,
              "#9c179e"
             ],
             [
              0.4444444444444444,
              "#bd3786"
             ],
             [
              0.5555555555555556,
              "#d8576b"
             ],
             [
              0.6666666666666666,
              "#ed7953"
             ],
             [
              0.7777777777777778,
              "#fb9f3a"
             ],
             [
              0.8888888888888888,
              "#fdca26"
             ],
             [
              1,
              "#f0f921"
             ]
            ],
            "type": "heatmap"
           }
          ],
          "histogram": [
           {
            "marker": {
             "pattern": {
              "fillmode": "overlay",
              "size": 10,
              "solidity": 0.2
             }
            },
            "type": "histogram"
           }
          ],
          "histogram2d": [
           {
            "colorbar": {
             "outlinewidth": 0,
             "ticks": ""
            },
            "colorscale": [
             [
              0,
              "#0d0887"
             ],
             [
              0.1111111111111111,
              "#46039f"
             ],
             [
              0.2222222222222222,
              "#7201a8"
             ],
             [
              0.3333333333333333,
              "#9c179e"
             ],
             [
              0.4444444444444444,
              "#bd3786"
             ],
             [
              0.5555555555555556,
              "#d8576b"
             ],
             [
              0.6666666666666666,
              "#ed7953"
             ],
             [
              0.7777777777777778,
              "#fb9f3a"
             ],
             [
              0.8888888888888888,
              "#fdca26"
             ],
             [
              1,
              "#f0f921"
             ]
            ],
            "type": "histogram2d"
           }
          ],
          "histogram2dcontour": [
           {
            "colorbar": {
             "outlinewidth": 0,
             "ticks": ""
            },
            "colorscale": [
             [
              0,
              "#0d0887"
             ],
             [
              0.1111111111111111,
              "#46039f"
             ],
             [
              0.2222222222222222,
              "#7201a8"
             ],
             [
              0.3333333333333333,
              "#9c179e"
             ],
             [
              0.4444444444444444,
              "#bd3786"
             ],
             [
              0.5555555555555556,
              "#d8576b"
             ],
             [
              0.6666666666666666,
              "#ed7953"
             ],
             [
              0.7777777777777778,
              "#fb9f3a"
             ],
             [
              0.8888888888888888,
              "#fdca26"
             ],
             [
              1,
              "#f0f921"
             ]
            ],
            "type": "histogram2dcontour"
           }
          ],
          "mesh3d": [
           {
            "colorbar": {
             "outlinewidth": 0,
             "ticks": ""
            },
            "type": "mesh3d"
           }
          ],
          "parcoords": [
           {
            "line": {
             "colorbar": {
              "outlinewidth": 0,
              "ticks": ""
             }
            },
            "type": "parcoords"
           }
          ],
          "pie": [
           {
            "automargin": true,
            "type": "pie"
           }
          ],
          "scatter": [
           {
            "fillpattern": {
             "fillmode": "overlay",
             "size": 10,
             "solidity": 0.2
            },
            "type": "scatter"
           }
          ],
          "scatter3d": [
           {
            "line": {
             "colorbar": {
              "outlinewidth": 0,
              "ticks": ""
             }
            },
            "marker": {
             "colorbar": {
              "outlinewidth": 0,
              "ticks": ""
             }
            },
            "type": "scatter3d"
           }
          ],
          "scattercarpet": [
           {
            "marker": {
             "colorbar": {
              "outlinewidth": 0,
              "ticks": ""
             }
            },
            "type": "scattercarpet"
           }
          ],
          "scattergeo": [
           {
            "marker": {
             "colorbar": {
              "outlinewidth": 0,
              "ticks": ""
             }
            },
            "type": "scattergeo"
           }
          ],
          "scattergl": [
           {
            "marker": {
             "colorbar": {
              "outlinewidth": 0,
              "ticks": ""
             }
            },
            "type": "scattergl"
           }
          ],
          "scattermap": [
           {
            "marker": {
             "colorbar": {
              "outlinewidth": 0,
              "ticks": ""
             }
            },
            "type": "scattermap"
           }
          ],
          "scattermapbox": [
           {
            "marker": {
             "colorbar": {
              "outlinewidth": 0,
              "ticks": ""
             }
            },
            "type": "scattermapbox"
           }
          ],
          "scatterpolar": [
           {
            "marker": {
             "colorbar": {
              "outlinewidth": 0,
              "ticks": ""
             }
            },
            "type": "scatterpolar"
           }
          ],
          "scatterpolargl": [
           {
            "marker": {
             "colorbar": {
              "outlinewidth": 0,
              "ticks": ""
             }
            },
            "type": "scatterpolargl"
           }
          ],
          "scatterternary": [
           {
            "marker": {
             "colorbar": {
              "outlinewidth": 0,
              "ticks": ""
             }
            },
            "type": "scatterternary"
           }
          ],
          "surface": [
           {
            "colorbar": {
             "outlinewidth": 0,
             "ticks": ""
            },
            "colorscale": [
             [
              0,
              "#0d0887"
             ],
             [
              0.1111111111111111,
              "#46039f"
             ],
             [
              0.2222222222222222,
              "#7201a8"
             ],
             [
              0.3333333333333333,
              "#9c179e"
             ],
             [
              0.4444444444444444,
              "#bd3786"
             ],
             [
              0.5555555555555556,
              "#d8576b"
             ],
             [
              0.6666666666666666,
              "#ed7953"
             ],
             [
              0.7777777777777778,
              "#fb9f3a"
             ],
             [
              0.8888888888888888,
              "#fdca26"
             ],
             [
              1,
              "#f0f921"
             ]
            ],
            "type": "surface"
           }
          ],
          "table": [
           {
            "cells": {
             "fill": {
              "color": "#EBF0F8"
             },
             "line": {
              "color": "white"
             }
            },
            "header": {
             "fill": {
              "color": "#C8D4E3"
             },
             "line": {
              "color": "white"
             }
            },
            "type": "table"
           }
          ]
         },
         "layout": {
          "annotationdefaults": {
           "arrowcolor": "#2a3f5f",
           "arrowhead": 0,
           "arrowwidth": 1
          },
          "autotypenumbers": "strict",
          "coloraxis": {
           "colorbar": {
            "outlinewidth": 0,
            "ticks": ""
           }
          },
          "colorscale": {
           "diverging": [
            [
             0,
             "#8e0152"
            ],
            [
             0.1,
             "#c51b7d"
            ],
            [
             0.2,
             "#de77ae"
            ],
            [
             0.3,
             "#f1b6da"
            ],
            [
             0.4,
             "#fde0ef"
            ],
            [
             0.5,
             "#f7f7f7"
            ],
            [
             0.6,
             "#e6f5d0"
            ],
            [
             0.7,
             "#b8e186"
            ],
            [
             0.8,
             "#7fbc41"
            ],
            [
             0.9,
             "#4d9221"
            ],
            [
             1,
             "#276419"
            ]
           ],
           "sequential": [
            [
             0,
             "#0d0887"
            ],
            [
             0.1111111111111111,
             "#46039f"
            ],
            [
             0.2222222222222222,
             "#7201a8"
            ],
            [
             0.3333333333333333,
             "#9c179e"
            ],
            [
             0.4444444444444444,
             "#bd3786"
            ],
            [
             0.5555555555555556,
             "#d8576b"
            ],
            [
             0.6666666666666666,
             "#ed7953"
            ],
            [
             0.7777777777777778,
             "#fb9f3a"
            ],
            [
             0.8888888888888888,
             "#fdca26"
            ],
            [
             1,
             "#f0f921"
            ]
           ],
           "sequentialminus": [
            [
             0,
             "#0d0887"
            ],
            [
             0.1111111111111111,
             "#46039f"
            ],
            [
             0.2222222222222222,
             "#7201a8"
            ],
            [
             0.3333333333333333,
             "#9c179e"
            ],
            [
             0.4444444444444444,
             "#bd3786"
            ],
            [
             0.5555555555555556,
             "#d8576b"
            ],
            [
             0.6666666666666666,
             "#ed7953"
            ],
            [
             0.7777777777777778,
             "#fb9f3a"
            ],
            [
             0.8888888888888888,
             "#fdca26"
            ],
            [
             1,
             "#f0f921"
            ]
           ]
          },
          "colorway": [
           "#636efa",
           "#EF553B",
           "#00cc96",
           "#ab63fa",
           "#FFA15A",
           "#19d3f3",
           "#FF6692",
           "#B6E880",
           "#FF97FF",
           "#FECB52"
          ],
          "font": {
           "color": "#2a3f5f"
          },
          "geo": {
           "bgcolor": "white",
           "lakecolor": "white",
           "landcolor": "#E5ECF6",
           "showlakes": true,
           "showland": true,
           "subunitcolor": "white"
          },
          "hoverlabel": {
           "align": "left"
          },
          "hovermode": "closest",
          "mapbox": {
           "style": "light"
          },
          "paper_bgcolor": "white",
          "plot_bgcolor": "#E5ECF6",
          "polar": {
           "angularaxis": {
            "gridcolor": "white",
            "linecolor": "white",
            "ticks": ""
           },
           "bgcolor": "#E5ECF6",
           "radialaxis": {
            "gridcolor": "white",
            "linecolor": "white",
            "ticks": ""
           }
          },
          "scene": {
           "xaxis": {
            "backgroundcolor": "#E5ECF6",
            "gridcolor": "white",
            "gridwidth": 2,
            "linecolor": "white",
            "showbackground": true,
            "ticks": "",
            "zerolinecolor": "white"
           },
           "yaxis": {
            "backgroundcolor": "#E5ECF6",
            "gridcolor": "white",
            "gridwidth": 2,
            "linecolor": "white",
            "showbackground": true,
            "ticks": "",
            "zerolinecolor": "white"
           },
           "zaxis": {
            "backgroundcolor": "#E5ECF6",
            "gridcolor": "white",
            "gridwidth": 2,
            "linecolor": "white",
            "showbackground": true,
            "ticks": "",
            "zerolinecolor": "white"
           }
          },
          "shapedefaults": {
           "line": {
            "color": "#2a3f5f"
           }
          },
          "ternary": {
           "aaxis": {
            "gridcolor": "white",
            "linecolor": "white",
            "ticks": ""
           },
           "baxis": {
            "gridcolor": "white",
            "linecolor": "white",
            "ticks": ""
           },
           "bgcolor": "#E5ECF6",
           "caxis": {
            "gridcolor": "white",
            "linecolor": "white",
            "ticks": ""
           }
          },
          "title": {
           "x": 0.05
          },
          "xaxis": {
           "automargin": true,
           "gridcolor": "white",
           "linecolor": "white",
           "ticks": "",
           "title": {
            "standoff": 15
           },
           "zerolinecolor": "white",
           "zerolinewidth": 2
          },
          "yaxis": {
           "automargin": true,
           "gridcolor": "white",
           "linecolor": "white",
           "ticks": "",
           "title": {
            "standoff": 15
           },
           "zerolinecolor": "white",
           "zerolinewidth": 2
          }
         }
        },
        "updatemenus": [
         {
          "active": 0,
          "buttons": [
           {
            "args": [
             {
              "visible": [
               true,
               false,
               false
              ]
             },
             {}
            ],
            "label": "Total Line Losses (GWh)",
            "method": "update"
           },
           {
            "args": [
             {
              "visible": [
               false,
               true,
               false
              ]
             },
             {}
            ],
            "label": "Losses - Transmission",
            "method": "update"
           },
           {
            "args": [
             {
              "visible": [
               false,
               false,
               true
              ]
             },
             {}
            ],
            "label": "Losses - Distribution",
            "method": "update"
           }
          ],
          "direction": "down",
          "showactive": true,
          "x": 1.05,
          "xanchor": "left",
          "y": 0.5,
          "yanchor": "middle"
         }
        ],
        "xaxis": {
         "title": {
          "text": "Year"
         }
        },
        "yaxis": {
         "title": {
          "text": "GWh"
         }
        }
       }
      },
      "image/png": "[encoded data removed]"
     },
     "metadata": {},
     "output_type": "display_data"
    },
    {
     "data": {
      "text/html": [
       "\n",
       "    <div style=\"margin: 20px; text-align: left;\">\n",
       "        <a href=\"data:file/csv;base64,LFRvdGFsIExpbmUgTG9zc2VzIChHV2gpLExvc3NlcyAtIFRyYW5zbWlzc2lvbixMb3NzZXMgLSBEaXN0cmlidXRpb24KMTk5MC0wMS0wMSwyNDA4LjYsMTE4OS41LDEyMTcuNgoxOTkxLTAxLTAxLDI0MDUuMCwxMjA4LjQsMTE5NC4zCjE5OTItMDEtMDEsMjQwMC43LDExODUuNiwxMjA5LjcKMTk5My0wMS0wMSwyNDU2LjksMTIzNC40LDEyMjguNwoxOTk0LTAxLTAxLDI1MzguMiwxMjU5LjMsMTI3My4yCjE5OTUtMDEtMDEsMjYxNC4yLDEyODYuMCwxMzI2LjMKMTk5Ni0wMS0wMSwyNjExLjUsMTI0OC44LDEzNjMuMQoxOTk3LTAxLTAxLDI3MzcuMSwxMzM5LjUsMTQwMC4wCjE5OTgtMDEtMDEsMjc5OC4yLDEzNzYuNCwxNDE4LjUKMTk5OS0wMS0wMSwyNzY5LjMsMTM1NS4wLDE0MTQuOAoyMDAwLTAxLTAxLDMwNDQuNCwxNTQ1LjEsMTQ5OC4wCjIwMDEtMDEtMDEsMzAyNy42LDE0NjcuMCwxNTYyLjAKMjAwMi0wMS0wMSwzMDEzLjIsMTQ0My44LDE1NjguNwoyMDAzLTAxLTAxLDI4OTIuOCwxMzAyLjgsMTU4OC40CjIwMDQtMDEtMDEsMjk5NC4wLDEzMjcuNiwxNjY1LjAKMjAwNS0wMS0wMSwyOTc4LjAsMTI3My4yLDE3MDYuMAoyMDA2LTAxLTAxLDMwMTAuNywxMzQ2LjMsMTY2NC4yCjIwMDctMDEtMDEsMzAyOC45LDEzMzguMywxNjkwLjMKMjAwOC0wMS0wMSwzMTI5LjksMTQ0OS42LDE2NzguMwoyMDA5LTAxLTAxLDI5OTIuMywxMzUxLjAsMTY0My41CjIwMTAtMDEtMDEsMzEwMi4wLDEzNTguNiwxNzQyLjEKMjAxMS0wMS0wMSwyOTk4LjgsMTMxMC44LDE2OTAuMAoyMDEyLTAxLTAxLDMwMDEuOSwxMzg2LjgsMTYxNi4yCjIwMTMtMDEtMDEsMjg5NS4xLDEzMDUuMCwxNTkwLjIKMjAxNC0wMS0wMSwyODUxLjAsMTI1MS41LDE1OTkuNQoyMDE1LTAxLTAxLDI4OTYuNiwxMjQ0LjYsMTY1MS45CjIwMTYtMDEtMDEsMjk1NS4xLDEzOTYuMSwxNTU4LjkKMjAxNy0wMS0wMSwyOTQ0LjIsMTM3NC44LDE1NjkuNAoyMDE4LTAxLTAxLDI5NDIuMCwxMzkzLjEsMTU0OC45CjIwMTktMDEtMDEsMzAwMC42LDE0MDYuNSwxNTk0LjEKMjAyMC0wMS0wMSwyOTcxLjcsMTM1MS4zLDE2MjAuNAoyMDIxLTAxLTAxLDI5OTcuMiwxMzY4LjcsMTYyOC41CjIwMjItMDEtMDEsMzAzNS42LDE0NjMuOSwxNTcxLjcKMjAyMy0wMS0wMSwzMDE2LjEsMTQwNi4xLDE2MTAuMAoyMDI0LTAxLTAxLDMwMzkuMiwxMzkzLjAsMTY0Ni4yCg==\" \n",
       "           download=\"line_loss_data.csv\"\n",
       "           style=\"padding: 10px 20px; \n",
       "                  background-color: #0074D9; \n",
       "                  color: white; \n",
       "                  text-decoration: none;\n",
       "                  border-radius: 5px;\n",
       "                  font-family: Arial, sans-serif;\">\n",
       "            Download Line Loss Data (CSV)\n",
       "        </a>\n",
       "    </div>\n",
       "    "
      ],
      "text/plain": [
       "<IPython.core.display.HTML object>"
      ]
     },
     "metadata": {},
     "output_type": "display_data"
    }
   ],
   "source": [
    "import importlib\n",
    "import line_loss_plot\n",
    "importlib.reload(line_loss_plot)\n",
    "from line_loss_plot import create_line_loss_plot\n",
    "\n",
    "fig, show_plot = create_line_loss_plot()\n",
    "show_plot()"
   ]
  },
  {
   "cell_type": "markdown",
   "id": "d92a2c9b-5d18-431f-ab77-808d8f9dbcdd",
   "metadata": {},
   "source": [
    "# Electricity Consumption Plot"
   ]
  },
  {
   "cell_type": "code",
   "execution_count": 10,
   "id": "17a15ade-a3fa-482b-bb18-cb98f381634e",
   "metadata": {},
   "outputs": [
    {
     "data": {
      "application/vnd.plotly.v1+json": {
       "config": {
        "plotlyServerURL": "https://plot.ly"
       },
       "data": [
        {
         "name": "Consumption (GWh)  ̶  based on estimated sales",
         "type": "scatter",
         "visible": true,
         "x": [
          "1974-01-01T00:00:00.000000000",
          "1975-01-01T00:00:00.000000000",
          "1976-01-01T00:00:00.000000000",
          "1977-01-01T00:00:00.000000000",
          "1978-01-01T00:00:00.000000000",
          "1979-01-01T00:00:00.000000000",
          "1980-01-01T00:00:00.000000000",
          "1981-01-01T00:00:00.000000000",
          "1982-01-01T00:00:00.000000000",
          "1983-01-01T00:00:00.000000000",
          "1984-01-01T00:00:00.000000000",
          "1985-01-01T00:00:00.000000000",
          "1986-01-01T00:00:00.000000000",
          "1987-01-01T00:00:00.000000000",
          "1988-01-01T00:00:00.000000000",
          "1989-01-01T00:00:00.000000000",
          "1990-01-01T00:00:00.000000000",
          "1991-01-01T00:00:00.000000000",
          "1992-01-01T00:00:00.000000000",
          "1993-01-01T00:00:00.000000000",
          "1994-01-01T00:00:00.000000000",
          "1995-01-01T00:00:00.000000000",
          "1996-01-01T00:00:00.000000000",
          "1997-01-01T00:00:00.000000000",
          "1998-01-01T00:00:00.000000000",
          "1999-01-01T00:00:00.000000000",
          "2000-01-01T00:00:00.000000000",
          "2001-01-01T00:00:00.000000000",
          "2002-01-01T00:00:00.000000000",
          "2003-01-01T00:00:00.000000000",
          "2004-01-01T00:00:00.000000000",
          "2005-01-01T00:00:00.000000000",
          "2006-01-01T00:00:00.000000000",
          "2007-01-01T00:00:00.000000000",
          "2008-01-01T00:00:00.000000000",
          "2009-01-01T00:00:00.000000000",
          "2010-01-01T00:00:00.000000000",
          "2011-01-01T00:00:00.000000000",
          "2012-01-01T00:00:00.000000000",
          "2013-01-01T00:00:00.000000000",
          "2014-01-01T00:00:00.000000000",
          "2015-01-01T00:00:00.000000000",
          "2016-01-01T00:00:00.000000000",
          "2017-01-01T00:00:00.000000000",
          "2018-01-01T00:00:00.000000000",
          "2019-01-01T00:00:00.000000000",
          "2020-01-01T00:00:00.000000000",
          "2021-01-01T00:00:00.000000000",
          "2022-01-01T00:00:00.000000000",
          "2023-01-01T00:00:00.000000000",
          "2024-01-01T00:00:00.000000000"
         ],
         "y": {
          "bdata": "AAAAAICfz0AzMzMzc+bQQDMzMzPTttFAZmZmZkZR0kCamZmZWXPSQJqZmZl5jtJAZmZmZsb10kAzMzMz037TQGZmZmaGj9RAZmZmZkYV1kDNzMzMDDLXQAAAAABAo9dAZmZmZiZ+2EDNzMzMrBbZQM3MzMys2tlAZmZmZiaF2kCamZmZmSHcQAAAAAAAu9xAZmZmZmYW3EBmZmZmZjHdQGZmZmbG0t1AZmZmZoZ03kAAAAAAwCzfQAAAAACgPOBAzczMzBwZ4EBmZmZmZqPgQJqZmZnp8OBAmpmZmWlL4UDNzMzMfLDhQAAAAADAzeFAzczMzDx04kAAAAAAELziQM3MzMycJ+NAAAAAANBd40BmZmZmhiLjQM3MzMw8M+NAMzMzM0PQ40AAAAAA8LHjQAAAAABQhuNAzczMzKxD40DNzMzMPKbjQAAAAACw5eNAZmZmZgal40AAAAAAoH/jQGZmZmamg+NAZmZmZjav40CamZmZGUPjQJqZmZkpVeNAZmZmZsYS40CamZmZ6RvjQGZmZmZmGONA",
          "dtype": "f8"
         }
        },
        {
         "name": "Agriculture, Forestry, and Fishing",
         "type": "scatter",
         "visible": false,
         "x": [
          "1974-01-01T00:00:00.000000000",
          "1975-01-01T00:00:00.000000000",
          "1976-01-01T00:00:00.000000000",
          "1977-01-01T00:00:00.000000000",
          "1978-01-01T00:00:00.000000000",
          "1979-01-01T00:00:00.000000000",
          "1980-01-01T00:00:00.000000000",
          "1981-01-01T00:00:00.000000000",
          "1982-01-01T00:00:00.000000000",
          "1983-01-01T00:00:00.000000000",
          "1984-01-01T00:00:00.000000000",
          "1985-01-01T00:00:00.000000000",
          "1986-01-01T00:00:00.000000000",
          "1987-01-01T00:00:00.000000000",
          "1988-01-01T00:00:00.000000000",
          "1989-01-01T00:00:00.000000000",
          "1990-01-01T00:00:00.000000000",
          "1991-01-01T00:00:00.000000000",
          "1992-01-01T00:00:00.000000000",
          "1993-01-01T00:00:00.000000000",
          "1994-01-01T00:00:00.000000000",
          "1995-01-01T00:00:00.000000000",
          "1996-01-01T00:00:00.000000000",
          "1997-01-01T00:00:00.000000000",
          "1998-01-01T00:00:00.000000000",
          "1999-01-01T00:00:00.000000000",
          "2000-01-01T00:00:00.000000000",
          "2001-01-01T00:00:00.000000000",
          "2002-01-01T00:00:00.000000000",
          "2003-01-01T00:00:00.000000000",
          "2004-01-01T00:00:00.000000000",
          "2005-01-01T00:00:00.000000000",
          "2006-01-01T00:00:00.000000000",
          "2007-01-01T00:00:00.000000000",
          "2008-01-01T00:00:00.000000000",
          "2009-01-01T00:00:00.000000000",
          "2010-01-01T00:00:00.000000000",
          "2011-01-01T00:00:00.000000000",
          "2012-01-01T00:00:00.000000000",
          "2013-01-01T00:00:00.000000000",
          "2014-01-01T00:00:00.000000000",
          "2015-01-01T00:00:00.000000000",
          "2016-01-01T00:00:00.000000000",
          "2017-01-01T00:00:00.000000000",
          "2018-01-01T00:00:00.000000000",
          "2019-01-01T00:00:00.000000000",
          "2020-01-01T00:00:00.000000000",
          "2021-01-01T00:00:00.000000000",
          "2022-01-01T00:00:00.000000000",
          "2023-01-01T00:00:00.000000000",
          "2024-01-01T00:00:00.000000000"
         ],
         "y": {
          "bdata": "ZmZmZmb+dkCamZmZmUl4QGZmZmZmXnlAmpmZmZnRekDNzMzMzMR5QJqZmZmZcXlAAAAAAADIe0AAAAAAAHh9QM3MzMzMnH9AMzMzMzNzf0AzMzMzM0OCQAAAAAAAWIJAmpmZmZnNgUCamZmZmbGBQJqZmZmZgYRAAAAAAAC0hEBmZmZmZjaFQAAAAAAAJIZAMzMzMzNjh0DNzMzMzEiIQGZmZmZmWopAMzMzMzPbi0AAAAAAAFSOQAAAAAAAlJFAMzMzMzPBkkBmZmZmZuCTQAAAAAAA/JNAMzMzMzMdlkCamZmZmR+WQM3MzMzMspZAMzMzMzP1lUAAAAAAAMSWQM3MzMzMKppAmpmZmZkVnEAAAAAAAGyfQAAAAAAA0J5AzczMzMw1oUAAAAAAABWgQJqZmZmZaKFAAAAAAADKokBmZmZmZpqkQJqZmZmZBaZAZmZmZma3o0CamZmZmTikQAAAAAAA26FAZmZmZmbio0CamZmZmf6kQDMzMzMzV6RAMzMzMzP0okBmZmZmZvqjQJqZmZmZdKVA",
          "dtype": "f8"
         }
        },
        {
         "name": "Industrial:",
         "type": "scatter",
         "visible": false,
         "x": [
          "1974-01-01T00:00:00.000000000",
          "1975-01-01T00:00:00.000000000",
          "1976-01-01T00:00:00.000000000",
          "1977-01-01T00:00:00.000000000",
          "1978-01-01T00:00:00.000000000",
          "1979-01-01T00:00:00.000000000",
          "1980-01-01T00:00:00.000000000",
          "1981-01-01T00:00:00.000000000",
          "1982-01-01T00:00:00.000000000",
          "1983-01-01T00:00:00.000000000",
          "1984-01-01T00:00:00.000000000",
          "1985-01-01T00:00:00.000000000",
          "1986-01-01T00:00:00.000000000",
          "1987-01-01T00:00:00.000000000",
          "1988-01-01T00:00:00.000000000",
          "1989-01-01T00:00:00.000000000",
          "1990-01-01T00:00:00.000000000",
          "1991-01-01T00:00:00.000000000",
          "1992-01-01T00:00:00.000000000",
          "1993-01-01T00:00:00.000000000",
          "1994-01-01T00:00:00.000000000",
          "1995-01-01T00:00:00.000000000",
          "1996-01-01T00:00:00.000000000",
          "1997-01-01T00:00:00.000000000",
          "1998-01-01T00:00:00.000000000",
          "1999-01-01T00:00:00.000000000",
          "2000-01-01T00:00:00.000000000",
          "2001-01-01T00:00:00.000000000",
          "2002-01-01T00:00:00.000000000",
          "2003-01-01T00:00:00.000000000",
          "2004-01-01T00:00:00.000000000",
          "2005-01-01T00:00:00.000000000",
          "2006-01-01T00:00:00.000000000",
          "2007-01-01T00:00:00.000000000",
          "2008-01-01T00:00:00.000000000",
          "2009-01-01T00:00:00.000000000",
          "2010-01-01T00:00:00.000000000",
          "2011-01-01T00:00:00.000000000",
          "2012-01-01T00:00:00.000000000",
          "2013-01-01T00:00:00.000000000",
          "2014-01-01T00:00:00.000000000",
          "2015-01-01T00:00:00.000000000",
          "2016-01-01T00:00:00.000000000",
          "2017-01-01T00:00:00.000000000",
          "2018-01-01T00:00:00.000000000",
          "2019-01-01T00:00:00.000000000",
          "2020-01-01T00:00:00.000000000",
          "2021-01-01T00:00:00.000000000",
          "2022-01-01T00:00:00.000000000",
          "2023-01-01T00:00:00.000000000",
          "2024-01-01T00:00:00.000000000"
         ],
         "y": {
          "bdata": "mpmZmZmDtkCamZmZGZu3QGZmZmZmSLlAzczMzExAu0AzMzMzsze8QM3MzMxM97xAZmZmZubbvUDNzMzMzFG+QAAAAACAtr9AAAAAAADTwUCamZmZGT7DQGZmZmamlcNAzczMzIw9xEAAAAAAgOHEQM3MzMzMdsVAMzMzM3MwxkCamZmZWfDGQJqZmZmZZMdAzczMzEyoxkCamZmZGZLIQAAAAACALslAmpmZmZmIyUCamZmZmdvJQDMzMzMz3MpAAAAAAACUykCamZmZGSrLQGZmZmYmHMxAzczMzMxZzECamZmZmanNQGZmZmamyMxAmpmZmVlCzkAzMzMz88XOQGZmZmamrc1AmpmZmRnEzUAAAAAAwJnMQM3MzMxMgMtAmpmZmZm+zUCamZmZWbDNQJqZmZkZTsxAAAAAAEAbzECamZmZGSrMQDMzMzOziMxAmpmZmZlpzEAAAAAAAIzMQAAAAADAjsxAAAAAAMD1zECamZmZmWnLQGZmZmbm3spAzczMzEyEykDNzMzMTDTJQAAAAAAAYMhA",
          "dtype": "f8"
         }
        },
        {
         "name": "Mining",
         "type": "scatter",
         "visible": false,
         "x": [
          "1974-01-01T00:00:00.000000000",
          "1975-01-01T00:00:00.000000000",
          "1976-01-01T00:00:00.000000000",
          "1977-01-01T00:00:00.000000000",
          "1978-01-01T00:00:00.000000000",
          "1979-01-01T00:00:00.000000000",
          "1980-01-01T00:00:00.000000000",
          "1981-01-01T00:00:00.000000000",
          "1982-01-01T00:00:00.000000000",
          "1983-01-01T00:00:00.000000000",
          "1984-01-01T00:00:00.000000000",
          "1985-01-01T00:00:00.000000000",
          "1986-01-01T00:00:00.000000000",
          "1987-01-01T00:00:00.000000000",
          "1988-01-01T00:00:00.000000000",
          "1989-01-01T00:00:00.000000000",
          "1990-01-01T00:00:00.000000000",
          "1991-01-01T00:00:00.000000000",
          "1992-01-01T00:00:00.000000000",
          "1993-01-01T00:00:00.000000000",
          "1994-01-01T00:00:00.000000000",
          "1995-01-01T00:00:00.000000000",
          "1996-01-01T00:00:00.000000000",
          "1997-01-01T00:00:00.000000000",
          "1998-01-01T00:00:00.000000000",
          "1999-01-01T00:00:00.000000000",
          "2000-01-01T00:00:00.000000000",
          "2001-01-01T00:00:00.000000000",
          "2002-01-01T00:00:00.000000000",
          "2003-01-01T00:00:00.000000000",
          "2004-01-01T00:00:00.000000000",
          "2005-01-01T00:00:00.000000000",
          "2006-01-01T00:00:00.000000000",
          "2007-01-01T00:00:00.000000000",
          "2008-01-01T00:00:00.000000000",
          "2009-01-01T00:00:00.000000000",
          "2010-01-01T00:00:00.000000000",
          "2011-01-01T00:00:00.000000000",
          "2012-01-01T00:00:00.000000000",
          "2013-01-01T00:00:00.000000000",
          "2014-01-01T00:00:00.000000000",
          "2015-01-01T00:00:00.000000000",
          "2016-01-01T00:00:00.000000000",
          "2017-01-01T00:00:00.000000000",
          "2018-01-01T00:00:00.000000000",
          "2019-01-01T00:00:00.000000000",
          "2020-01-01T00:00:00.000000000",
          "2021-01-01T00:00:00.000000000",
          "2022-01-01T00:00:00.000000000",
          "2023-01-01T00:00:00.000000000",
          "2024-01-01T00:00:00.000000000"
         ],
         "y": {
          "bdata": "AAAAAAAA+H8AAAAAAAD4fwAAAAAAAPh/AAAAAAAA+H8AAAAAAAD4fwAAAAAAAPh/AAAAAAAA+H8AAAAAAAD4fwAAAAAAAPh/AAAAAAAA+H8AAAAAAAD4fwAAAAAAAPh/AAAAAAAA+H8AAAAAAAD4fwAAAAAAAPh/AAAAAAAA+H8AAAAAAOBnQGZmZmZmVm1AmpmZmZmBcUAAAAAAAEBzQDMzMzMzG3VAZmZmZmbmd0AzMzMzM+t3QAAAAAAAKHhAAAAAAACIdEAAAAAAAKBxQAAAAAAAUHVAZmZmZmYGdkAzMzMzM7t0QGZmZmZmjnNAmpmZmZkZckDNzMzMzCR0QGZmZmZmhnRAzczMzMwsd0DNzMzMzMR6QGZmZmZmln5AAAAAAACYekAAAAAAAAB5QJqZmZmZ0XxAZmZmZmYWfUAAAAAAAOh7QDMzMzMzU3lAAAAAAACYdkAzMzMzMxt6QAAAAAAAGHxAAAAAAAAgfEAAAAAAAAh6QJqZmZmZoXpAZmZmZmb+ekAzMzMzM0t7QM3MzMzM/H5A",
          "dtype": "f8"
         }
        },
        {
         "name": "Food Processing",
         "type": "scatter",
         "visible": false,
         "x": [
          "1974-01-01T00:00:00.000000000",
          "1975-01-01T00:00:00.000000000",
          "1976-01-01T00:00:00.000000000",
          "1977-01-01T00:00:00.000000000",
          "1978-01-01T00:00:00.000000000",
          "1979-01-01T00:00:00.000000000",
          "1980-01-01T00:00:00.000000000",
          "1981-01-01T00:00:00.000000000",
          "1982-01-01T00:00:00.000000000",
          "1983-01-01T00:00:00.000000000",
          "1984-01-01T00:00:00.000000000",
          "1985-01-01T00:00:00.000000000",
          "1986-01-01T00:00:00.000000000",
          "1987-01-01T00:00:00.000000000",
          "1988-01-01T00:00:00.000000000",
          "1989-01-01T00:00:00.000000000",
          "1990-01-01T00:00:00.000000000",
          "1991-01-01T00:00:00.000000000",
          "1992-01-01T00:00:00.000000000",
          "1993-01-01T00:00:00.000000000",
          "1994-01-01T00:00:00.000000000",
          "1995-01-01T00:00:00.000000000",
          "1996-01-01T00:00:00.000000000",
          "1997-01-01T00:00:00.000000000",
          "1998-01-01T00:00:00.000000000",
          "1999-01-01T00:00:00.000000000",
          "2000-01-01T00:00:00.000000000",
          "2001-01-01T00:00:00.000000000",
          "2002-01-01T00:00:00.000000000",
          "2003-01-01T00:00:00.000000000",
          "2004-01-01T00:00:00.000000000",
          "2005-01-01T00:00:00.000000000",
          "2006-01-01T00:00:00.000000000",
          "2007-01-01T00:00:00.000000000",
          "2008-01-01T00:00:00.000000000",
          "2009-01-01T00:00:00.000000000",
          "2010-01-01T00:00:00.000000000",
          "2011-01-01T00:00:00.000000000",
          "2012-01-01T00:00:00.000000000",
          "2013-01-01T00:00:00.000000000",
          "2014-01-01T00:00:00.000000000",
          "2015-01-01T00:00:00.000000000",
          "2016-01-01T00:00:00.000000000",
          "2017-01-01T00:00:00.000000000",
          "2018-01-01T00:00:00.000000000",
          "2019-01-01T00:00:00.000000000",
          "2020-01-01T00:00:00.000000000",
          "2021-01-01T00:00:00.000000000",
          "2022-01-01T00:00:00.000000000",
          "2023-01-01T00:00:00.000000000",
          "2024-01-01T00:00:00.000000000"
         ],
         "y": {
          "bdata": "AAAAAAAA+H8AAAAAAAD4fwAAAAAAAPh/AAAAAAAA+H8AAAAAAAD4fwAAAAAAAPh/AAAAAAAA+H8AAAAAAAD4fwAAAAAAAPh/AAAAAAAA+H8AAAAAAAD4fwAAAAAAAPh/AAAAAAAA+H8AAAAAAAD4fwAAAAAAAPh/AAAAAAAA+H+amZmZmZuXQDMzMzMzL5dAMzMzMzPjlkCamZmZmd2YQAAAAAAAPJpAzczMzMyQmkDNzMzMzLKaQAAAAAAAEJ1AMzMzMzPfm0CamZmZmX+cQAAAAAAAOJ1AmpmZmZmnnkCamZmZmUygQGZmZmZm/p9AAAAAAACPoEAzMzMzM8ehQM3MzMzMRqFAZmZmZmb5oEAAAAAAAKKhQM3MzMzMrKFAZmZmZmaXoUAzMzMzM2yhQM3MzMzMvp5AAAAAAAAxoUAAAAAAABCiQAAAAAAAC6NAmpmZmZmVo0AzMzMzM82kQGZmZmZmsKVAAAAAAADvpUAzMzMzM3KmQGZmZmZmRqZAAAAAAACMp0BmZmZmZoanQAAAAAAA6KdA",
          "dtype": "f8"
         }
        },
        {
         "name": "Wood, Pulp, Paper and Printing",
         "type": "scatter",
         "visible": false,
         "x": [
          "1974-01-01T00:00:00.000000000",
          "1975-01-01T00:00:00.000000000",
          "1976-01-01T00:00:00.000000000",
          "1977-01-01T00:00:00.000000000",
          "1978-01-01T00:00:00.000000000",
          "1979-01-01T00:00:00.000000000",
          "1980-01-01T00:00:00.000000000",
          "1981-01-01T00:00:00.000000000",
          "1982-01-01T00:00:00.000000000",
          "1983-01-01T00:00:00.000000000",
          "1984-01-01T00:00:00.000000000",
          "1985-01-01T00:00:00.000000000",
          "1986-01-01T00:00:00.000000000",
          "1987-01-01T00:00:00.000000000",
          "1988-01-01T00:00:00.000000000",
          "1989-01-01T00:00:00.000000000",
          "1990-01-01T00:00:00.000000000",
          "1991-01-01T00:00:00.000000000",
          "1992-01-01T00:00:00.000000000",
          "1993-01-01T00:00:00.000000000",
          "1994-01-01T00:00:00.000000000",
          "1995-01-01T00:00:00.000000000",
          "1996-01-01T00:00:00.000000000",
          "1997-01-01T00:00:00.000000000",
          "1998-01-01T00:00:00.000000000",
          "1999-01-01T00:00:00.000000000",
          "2000-01-01T00:00:00.000000000",
          "2001-01-01T00:00:00.000000000",
          "2002-01-01T00:00:00.000000000",
          "2003-01-01T00:00:00.000000000",
          "2004-01-01T00:00:00.000000000",
          "2005-01-01T00:00:00.000000000",
          "2006-01-01T00:00:00.000000000",
          "2007-01-01T00:00:00.000000000",
          "2008-01-01T00:00:00.000000000",
          "2009-01-01T00:00:00.000000000",
          "2010-01-01T00:00:00.000000000",
          "2011-01-01T00:00:00.000000000",
          "2012-01-01T00:00:00.000000000",
          "2013-01-01T00:00:00.000000000",
          "2014-01-01T00:00:00.000000000",
          "2015-01-01T00:00:00.000000000",
          "2016-01-01T00:00:00.000000000",
          "2017-01-01T00:00:00.000000000",
          "2018-01-01T00:00:00.000000000",
          "2019-01-01T00:00:00.000000000",
          "2020-01-01T00:00:00.000000000",
          "2021-01-01T00:00:00.000000000",
          "2022-01-01T00:00:00.000000000",
          "2023-01-01T00:00:00.000000000",
          "2024-01-01T00:00:00.000000000"
         ],
         "y": {
          "bdata": "AAAAAAAA+H8AAAAAAAD4fwAAAAAAAPh/AAAAAAAA+H8AAAAAAAD4fwAAAAAAAPh/AAAAAAAA+H8AAAAAAAD4fwAAAAAAAPh/AAAAAAAA+H8AAAAAAAD4fwAAAAAAAPh/AAAAAAAA+H8AAAAAAAD4fwAAAAAAAPh/AAAAAAAA+H8zMzMzM32lQM3MzMzM5qZAZmZmZmZspkAAAAAAAESoQJqZmZmZqqhAmpmZmZmbqUBmZmZmZmioQJqZmZmZRqlAZmZmZmZ7qEDNzMzMzBurQM3MzMzMDq1AZmZmZmZVrUAzMzMzM4mvQDMzMzMzBK1AMzMzM7NpsEAzMzMzsySwQGZmZmZm8axAMzMzMzPqqkBmZmZmZj6qQAAAAAAAPaxAmpmZmZk7rUDNzMzMzOmsQGZmZmZmZapAMzMzMzMapUDNzMzMzOukQDMzMzMzUaVAAAAAAABZpUAAAAAAABOlQAAAAAAAyqRAMzMzMzMhpECamZmZmUegQAAAAAAAVJpAZmZmZmY+l0CamZmZmTmPQGZmZmZmBpFA",
          "dtype": "f8"
         }
        },
        {
         "name": "Chemicals",
         "type": "scatter",
         "visible": false,
         "x": [
          "1974-01-01T00:00:00.000000000",
          "1975-01-01T00:00:00.000000000",
          "1976-01-01T00:00:00.000000000",
          "1977-01-01T00:00:00.000000000",
          "1978-01-01T00:00:00.000000000",
          "1979-01-01T00:00:00.000000000",
          "1980-01-01T00:00:00.000000000",
          "1981-01-01T00:00:00.000000000",
          "1982-01-01T00:00:00.000000000",
          "1983-01-01T00:00:00.000000000",
          "1984-01-01T00:00:00.000000000",
          "1985-01-01T00:00:00.000000000",
          "1986-01-01T00:00:00.000000000",
          "1987-01-01T00:00:00.000000000",
          "1988-01-01T00:00:00.000000000",
          "1989-01-01T00:00:00.000000000",
          "1990-01-01T00:00:00.000000000",
          "1991-01-01T00:00:00.000000000",
          "1992-01-01T00:00:00.000000000",
          "1993-01-01T00:00:00.000000000",
          "1994-01-01T00:00:00.000000000",
          "1995-01-01T00:00:00.000000000",
          "1996-01-01T00:00:00.000000000",
          "1997-01-01T00:00:00.000000000",
          "1998-01-01T00:00:00.000000000",
          "1999-01-01T00:00:00.000000000",
          "2000-01-01T00:00:00.000000000",
          "2001-01-01T00:00:00.000000000",
          "2002-01-01T00:00:00.000000000",
          "2003-01-01T00:00:00.000000000",
          "2004-01-01T00:00:00.000000000",
          "2005-01-01T00:00:00.000000000",
          "2006-01-01T00:00:00.000000000",
          "2007-01-01T00:00:00.000000000",
          "2008-01-01T00:00:00.000000000",
          "2009-01-01T00:00:00.000000000",
          "2010-01-01T00:00:00.000000000",
          "2011-01-01T00:00:00.000000000",
          "2012-01-01T00:00:00.000000000",
          "2013-01-01T00:00:00.000000000",
          "2014-01-01T00:00:00.000000000",
          "2015-01-01T00:00:00.000000000",
          "2016-01-01T00:00:00.000000000",
          "2017-01-01T00:00:00.000000000",
          "2018-01-01T00:00:00.000000000",
          "2019-01-01T00:00:00.000000000",
          "2020-01-01T00:00:00.000000000",
          "2021-01-01T00:00:00.000000000",
          "2022-01-01T00:00:00.000000000",
          "2023-01-01T00:00:00.000000000",
          "2024-01-01T00:00:00.000000000"
         ],
         "y": {
          "bdata": "AAAAAAAA+H8AAAAAAAD4fwAAAAAAAPh/AAAAAAAA+H8AAAAAAAD4fwAAAAAAAPh/AAAAAAAA+H8AAAAAAAD4fwAAAAAAAPh/AAAAAAAA+H8AAAAAAAD4fwAAAAAAAPh/AAAAAAAA+H8AAAAAAAD4fwAAAAAAAPh/AAAAAAAA+H+amZmZmR2GQDMzMzMzw4VAMzMzMzOLhUBmZmZmZjKGQDMzMzMzE4ZAAAAAAACghUCamZmZmUGFQDMzMzMzj4ZAzczMzMwchkCamZmZmbGEQAAAAAAAjIRAAAAAAAA0hkAzMzMzM3eGQJqZmZmZOYVAMzMzMzMbhEDNzMzMzIiHQGZmZmZm9ohAMzMzMzM3iEAAAAAAAMSHQAAAAAAAGIZAzczMzMwAhkCamZmZmVWGQM3MzMzMJIdAzczMzMx8h0BmZmZmZuKGQAAAAAAANIhAZmZmZmaaiUCamZmZmQ2LQJqZmZmZXYhAAAAAAAAEiUDNzMzMzOCHQJqZmZmZVYdAMzMzMzOrgEBmZmZmZn57QDMzMzMzS3tA",
          "dtype": "f8"
         }
        },
        {
         "name": "Basic Metals",
         "type": "scatter",
         "visible": false,
         "x": [
          "1974-01-01T00:00:00.000000000",
          "1975-01-01T00:00:00.000000000",
          "1976-01-01T00:00:00.000000000",
          "1977-01-01T00:00:00.000000000",
          "1978-01-01T00:00:00.000000000",
          "1979-01-01T00:00:00.000000000",
          "1980-01-01T00:00:00.000000000",
          "1981-01-01T00:00:00.000000000",
          "1982-01-01T00:00:00.000000000",
          "1983-01-01T00:00:00.000000000",
          "1984-01-01T00:00:00.000000000",
          "1985-01-01T00:00:00.000000000",
          "1986-01-01T00:00:00.000000000",
          "1987-01-01T00:00:00.000000000",
          "1988-01-01T00:00:00.000000000",
          "1989-01-01T00:00:00.000000000",
          "1990-01-01T00:00:00.000000000",
          "1991-01-01T00:00:00.000000000",
          "1992-01-01T00:00:00.000000000",
          "1993-01-01T00:00:00.000000000",
          "1994-01-01T00:00:00.000000000",
          "1995-01-01T00:00:00.000000000",
          "1996-01-01T00:00:00.000000000",
          "1997-01-01T00:00:00.000000000",
          "1998-01-01T00:00:00.000000000",
          "1999-01-01T00:00:00.000000000",
          "2000-01-01T00:00:00.000000000",
          "2001-01-01T00:00:00.000000000",
          "2002-01-01T00:00:00.000000000",
          "2003-01-01T00:00:00.000000000",
          "2004-01-01T00:00:00.000000000",
          "2005-01-01T00:00:00.000000000",
          "2006-01-01T00:00:00.000000000",
          "2007-01-01T00:00:00.000000000",
          "2008-01-01T00:00:00.000000000",
          "2009-01-01T00:00:00.000000000",
          "2010-01-01T00:00:00.000000000",
          "2011-01-01T00:00:00.000000000",
          "2012-01-01T00:00:00.000000000",
          "2013-01-01T00:00:00.000000000",
          "2014-01-01T00:00:00.000000000",
          "2015-01-01T00:00:00.000000000",
          "2016-01-01T00:00:00.000000000",
          "2017-01-01T00:00:00.000000000",
          "2018-01-01T00:00:00.000000000",
          "2019-01-01T00:00:00.000000000",
          "2020-01-01T00:00:00.000000000",
          "2021-01-01T00:00:00.000000000",
          "2022-01-01T00:00:00.000000000",
          "2023-01-01T00:00:00.000000000",
          "2024-01-01T00:00:00.000000000"
         ],
         "y": {
          "bdata": "AAAAAAAA+H8AAAAAAAD4fwAAAAAAAPh/AAAAAAAA+H8AAAAAAAD4fwAAAAAAAPh/AAAAAAAA+H8AAAAAAAD4fwAAAAAAAPh/AAAAAAAA+H8AAAAAAAD4fwAAAAAAAPh/AAAAAAAA+H8AAAAAAAD4fwAAAAAAAPh/AAAAAAAA+H8zMzMzs1m1QGZmZmbm6bVAMzMzM7O7tEBmZmZm5oW2QAAAAAAAe7ZAMzMzM7N3tkAzMzMzM063QDMzMzMz+LdAmpmZmRmDuECamZmZmc+4QJqZmZmZyrhAZmZmZmaSuEAAAAAAAL64QJqZmZmZ7LhAmpmZmZkNukAzMzMzsza6QAAAAACA1blAAAAAAADVukDNzMzMzJy4QJqZmZmZ8LVAMzMzM7NdukAzMzMzM/u6QDMzMzOzkblAmpmZmZnNuUBmZmZm5pW5QM3MzMxMfLlAZmZmZmY1uUAzMzMzs9S4QJqZmZkZ87hAmpmZmZmpuUCamZmZmV+4QJqZmZmZcrhAZmZmZmZ/uEAzMzMzM1y4QM3MzMxMEbZA",
          "dtype": "f8"
         }
        },
        {
         "name": "Other Minor Sectors",
         "type": "scatter",
         "visible": false,
         "x": [
          "1974-01-01T00:00:00.000000000",
          "1975-01-01T00:00:00.000000000",
          "1976-01-01T00:00:00.000000000",
          "1977-01-01T00:00:00.000000000",
          "1978-01-01T00:00:00.000000000",
          "1979-01-01T00:00:00.000000000",
          "1980-01-01T00:00:00.000000000",
          "1981-01-01T00:00:00.000000000",
          "1982-01-01T00:00:00.000000000",
          "1983-01-01T00:00:00.000000000",
          "1984-01-01T00:00:00.000000000",
          "1985-01-01T00:00:00.000000000",
          "1986-01-01T00:00:00.000000000",
          "1987-01-01T00:00:00.000000000",
          "1988-01-01T00:00:00.000000000",
          "1989-01-01T00:00:00.000000000",
          "1990-01-01T00:00:00.000000000",
          "1991-01-01T00:00:00.000000000",
          "1992-01-01T00:00:00.000000000",
          "1993-01-01T00:00:00.000000000",
          "1994-01-01T00:00:00.000000000",
          "1995-01-01T00:00:00.000000000",
          "1996-01-01T00:00:00.000000000",
          "1997-01-01T00:00:00.000000000",
          "1998-01-01T00:00:00.000000000",
          "1999-01-01T00:00:00.000000000",
          "2000-01-01T00:00:00.000000000",
          "2001-01-01T00:00:00.000000000",
          "2002-01-01T00:00:00.000000000",
          "2003-01-01T00:00:00.000000000",
          "2004-01-01T00:00:00.000000000",
          "2005-01-01T00:00:00.000000000",
          "2006-01-01T00:00:00.000000000",
          "2007-01-01T00:00:00.000000000",
          "2008-01-01T00:00:00.000000000",
          "2009-01-01T00:00:00.000000000",
          "2010-01-01T00:00:00.000000000",
          "2011-01-01T00:00:00.000000000",
          "2012-01-01T00:00:00.000000000",
          "2013-01-01T00:00:00.000000000",
          "2014-01-01T00:00:00.000000000",
          "2015-01-01T00:00:00.000000000",
          "2016-01-01T00:00:00.000000000",
          "2017-01-01T00:00:00.000000000",
          "2018-01-01T00:00:00.000000000",
          "2019-01-01T00:00:00.000000000",
          "2020-01-01T00:00:00.000000000",
          "2021-01-01T00:00:00.000000000",
          "2022-01-01T00:00:00.000000000",
          "2023-01-01T00:00:00.000000000",
          "2024-01-01T00:00:00.000000000"
         ],
         "y": {
          "bdata": "AAAAAAAA+H8AAAAAAAD4fwAAAAAAAPh/AAAAAAAA+H8AAAAAAAD4fwAAAAAAAPh/AAAAAAAA+H8AAAAAAAD4fwAAAAAAAPh/AAAAAAAA+H8AAAAAAAD4fwAAAAAAAPh/AAAAAAAA+H8AAAAAAAD4fwAAAAAAAPh/AAAAAAAA+H/NzMzMzHqRQM3MzMzM6I9AMzMzMzPjjkBmZmZmZiqRQGZmZmZmppNAZmZmZmbUk0AzMzMzM4WVQJqZmZmZEZZAmpmZmZmNlUDNzMzMzJqUQDMzMzMzx5ZAZmZmZmaWlkDNzMzMzD6aQAAAAAAADJlAAAAAAACEmEDNzMzMzGaYQAAAAAAACphAzczMzMwemUAzMzMzMweYQM3MzMzMupVAMzMzMzMxlUCamZmZmX+TQJqZmZmZ2ZVAMzMzMzMJmkBmZmZmZpaaQDMzMzMzLZtAzczMzMwmmkAzMzMzMz+ZQJqZmZmZf5hAzczMzMxcmUBmZmZmZuiZQDMzMzMz+ZtAzczMzMy4nEAAAAAAANabQM3MzMzMUptA",
          "dtype": "f8"
         }
        },
        {
         "name": "Commercial",
         "type": "scatter",
         "visible": false,
         "x": [
          "1974-01-01T00:00:00.000000000",
          "1975-01-01T00:00:00.000000000",
          "1976-01-01T00:00:00.000000000",
          "1977-01-01T00:00:00.000000000",
          "1978-01-01T00:00:00.000000000",
          "1979-01-01T00:00:00.000000000",
          "1980-01-01T00:00:00.000000000",
          "1981-01-01T00:00:00.000000000",
          "1982-01-01T00:00:00.000000000",
          "1983-01-01T00:00:00.000000000",
          "1984-01-01T00:00:00.000000000",
          "1985-01-01T00:00:00.000000000",
          "1986-01-01T00:00:00.000000000",
          "1987-01-01T00:00:00.000000000",
          "1988-01-01T00:00:00.000000000",
          "1989-01-01T00:00:00.000000000",
          "1990-01-01T00:00:00.000000000",
          "1991-01-01T00:00:00.000000000",
          "1992-01-01T00:00:00.000000000",
          "1993-01-01T00:00:00.000000000",
          "1994-01-01T00:00:00.000000000",
          "1995-01-01T00:00:00.000000000",
          "1996-01-01T00:00:00.000000000",
          "1997-01-01T00:00:00.000000000",
          "1998-01-01T00:00:00.000000000",
          "1999-01-01T00:00:00.000000000",
          "2000-01-01T00:00:00.000000000",
          "2001-01-01T00:00:00.000000000",
          "2002-01-01T00:00:00.000000000",
          "2003-01-01T00:00:00.000000000",
          "2004-01-01T00:00:00.000000000",
          "2005-01-01T00:00:00.000000000",
          "2006-01-01T00:00:00.000000000",
          "2007-01-01T00:00:00.000000000",
          "2008-01-01T00:00:00.000000000",
          "2009-01-01T00:00:00.000000000",
          "2010-01-01T00:00:00.000000000",
          "2011-01-01T00:00:00.000000000",
          "2012-01-01T00:00:00.000000000",
          "2013-01-01T00:00:00.000000000",
          "2014-01-01T00:00:00.000000000",
          "2015-01-01T00:00:00.000000000",
          "2016-01-01T00:00:00.000000000",
          "2017-01-01T00:00:00.000000000",
          "2018-01-01T00:00:00.000000000",
          "2019-01-01T00:00:00.000000000",
          "2020-01-01T00:00:00.000000000",
          "2021-01-01T00:00:00.000000000",
          "2022-01-01T00:00:00.000000000",
          "2023-01-01T00:00:00.000000000",
          "2024-01-01T00:00:00.000000000"
         ],
         "y": {
          "bdata": "AAAAAADNo0BmZmZmZvekQJqZmZmZW6ZAAAAAAACSp0DNzMzMzMWnQDMzMzMzBKlAZmZmZmb2qUAAAAAAAIWrQGZmZmZmzK1AMzMzMzPCr0BmZmZm5uGwQJqZmZkZs7FAMzMzM7PJskCamZmZmZKzQM3MzMxM3LRAzczMzMwLtUCamZmZmci0QGZmZmbmKLVAZmZmZubEtECamZmZGSS1QM3MzMzMkLVAMzMzM7OLtkDNzMzMTC63QJqZmZmZH7lAMzMzM7MyuUDNzMzMzB26QAAAAAAA+LpAmpmZmZnHukAAAAAAgJy7QGZmZmbmMLxAmpmZmZlsvkDNzMzMDBXAQAAAAABAN8FAAAAAAIDWwUAAAAAAgKDBQDMzMzOzcsFAAAAAAICWwUAAAAAAAIbBQJqZmZnZScJAzczMzAw8wkBmZmZm5j3CQAAAAADAd8JAmpmZmdl5wkCamZmZWW3CQM3MzMzMicJAmpmZmZmYwkDNzMzMTOnBQDMzMzOzHsJAmpmZmVkmwkDNzMzMDGfCQDMzMzMzTMJA",
          "dtype": "f8"
         }
        },
        {
         "name": "Residential",
         "type": "scatter",
         "visible": false,
         "x": [
          "1974-01-01T00:00:00.000000000",
          "1975-01-01T00:00:00.000000000",
          "1976-01-01T00:00:00.000000000",
          "1977-01-01T00:00:00.000000000",
          "1978-01-01T00:00:00.000000000",
          "1979-01-01T00:00:00.000000000",
          "1980-01-01T00:00:00.000000000",
          "1981-01-01T00:00:00.000000000",
          "1982-01-01T00:00:00.000000000",
          "1983-01-01T00:00:00.000000000",
          "1984-01-01T00:00:00.000000000",
          "1985-01-01T00:00:00.000000000",
          "1986-01-01T00:00:00.000000000",
          "1987-01-01T00:00:00.000000000",
          "1988-01-01T00:00:00.000000000",
          "1989-01-01T00:00:00.000000000",
          "1990-01-01T00:00:00.000000000",
          "1991-01-01T00:00:00.000000000",
          "1992-01-01T00:00:00.000000000",
          "1993-01-01T00:00:00.000000000",
          "1994-01-01T00:00:00.000000000",
          "1995-01-01T00:00:00.000000000",
          "1996-01-01T00:00:00.000000000",
          "1997-01-01T00:00:00.000000000",
          "1998-01-01T00:00:00.000000000",
          "1999-01-01T00:00:00.000000000",
          "2000-01-01T00:00:00.000000000",
          "2001-01-01T00:00:00.000000000",
          "2002-01-01T00:00:00.000000000",
          "2003-01-01T00:00:00.000000000",
          "2004-01-01T00:00:00.000000000",
          "2005-01-01T00:00:00.000000000",
          "2006-01-01T00:00:00.000000000",
          "2007-01-01T00:00:00.000000000",
          "2008-01-01T00:00:00.000000000",
          "2009-01-01T00:00:00.000000000",
          "2010-01-01T00:00:00.000000000",
          "2011-01-01T00:00:00.000000000",
          "2012-01-01T00:00:00.000000000",
          "2013-01-01T00:00:00.000000000",
          "2014-01-01T00:00:00.000000000",
          "2015-01-01T00:00:00.000000000",
          "2016-01-01T00:00:00.000000000",
          "2017-01-01T00:00:00.000000000",
          "2018-01-01T00:00:00.000000000",
          "2019-01-01T00:00:00.000000000",
          "2020-01-01T00:00:00.000000000",
          "2021-01-01T00:00:00.000000000",
          "2022-01-01T00:00:00.000000000",
          "2023-01-01T00:00:00.000000000",
          "2024-01-01T00:00:00.000000000"
         ],
         "y": {
          "bdata": "mpmZmRllvUDNzMzMTP6/QM3MzMyMZ8BAmpmZmVlHwEAAAAAAQAvAQM3MzMxMKb9AAAAAAIBDv0AzMzMzswfAQM3MzMzM08BAmpmZmVlrwUDNzMzMzJDBQM3MzMzMscFAzczMzAw9wkAzMzMzc2fCQAAAAABAiMJAMzMzM7MIw0CamZmZGdrDQM3MzMxMXcRAAAAAAMDtw0AAAAAAAPnDQJqZmZnZRcRAmpmZmRmZxEDNzMzMDD3FQJqZmZlZjcVAmpmZmRkYxUAAAAAAQBHGQAAAAABA5cVAmpmZmZnmxkDNzMzMTMDGQM3MzMxMusdAzczMzMzxx0AAAAAAgKDHQGZmZmYmpshAAAAAAICLyEBmZmZmZlDIQJqZmZnZTMlAAAAAAAB+yEBmZmZmJpjIQGZmZmZmsMhAzczMzMwGyEDNzMzMjEzIQM3MzMyMWshAZmZmZqYsyEBmZmZm5i7IQM3MzMyMz8hAzczMzEy1yEBmZmZm5iPJQAAAAADA38lAAAAAAABjyUAzMzMzM9vJQJqZmZmZXMpA",
          "dtype": "f8"
         }
        },
        {
         "name": "Transport",
         "type": "scatter",
         "visible": false,
         "x": [
          "1974-01-01T00:00:00.000000000",
          "1975-01-01T00:00:00.000000000",
          "1976-01-01T00:00:00.000000000",
          "1977-01-01T00:00:00.000000000",
          "1978-01-01T00:00:00.000000000",
          "1979-01-01T00:00:00.000000000",
          "1980-01-01T00:00:00.000000000",
          "1981-01-01T00:00:00.000000000",
          "1982-01-01T00:00:00.000000000",
          "1983-01-01T00:00:00.000000000",
          "1984-01-01T00:00:00.000000000",
          "1985-01-01T00:00:00.000000000",
          "1986-01-01T00:00:00.000000000",
          "1987-01-01T00:00:00.000000000",
          "1988-01-01T00:00:00.000000000",
          "1989-01-01T00:00:00.000000000",
          "1990-01-01T00:00:00.000000000",
          "1991-01-01T00:00:00.000000000",
          "1992-01-01T00:00:00.000000000",
          "1993-01-01T00:00:00.000000000",
          "1994-01-01T00:00:00.000000000",
          "1995-01-01T00:00:00.000000000",
          "1996-01-01T00:00:00.000000000",
          "1997-01-01T00:00:00.000000000",
          "1998-01-01T00:00:00.000000000",
          "1999-01-01T00:00:00.000000000",
          "2000-01-01T00:00:00.000000000",
          "2001-01-01T00:00:00.000000000",
          "2002-01-01T00:00:00.000000000",
          "2003-01-01T00:00:00.000000000",
          "2004-01-01T00:00:00.000000000",
          "2005-01-01T00:00:00.000000000",
          "2006-01-01T00:00:00.000000000",
          "2007-01-01T00:00:00.000000000",
          "2008-01-01T00:00:00.000000000",
          "2009-01-01T00:00:00.000000000",
          "2010-01-01T00:00:00.000000000",
          "2011-01-01T00:00:00.000000000",
          "2012-01-01T00:00:00.000000000",
          "2013-01-01T00:00:00.000000000",
          "2014-01-01T00:00:00.000000000",
          "2015-01-01T00:00:00.000000000",
          "2016-01-01T00:00:00.000000000",
          "2017-01-01T00:00:00.000000000",
          "2018-01-01T00:00:00.000000000",
          "2019-01-01T00:00:00.000000000",
          "2020-01-01T00:00:00.000000000",
          "2021-01-01T00:00:00.000000000",
          "2022-01-01T00:00:00.000000000",
          "2023-01-01T00:00:00.000000000",
          "2024-01-01T00:00:00.000000000"
         ],
         "y": {
          "bdata": "AAAAAAAA+H8AAAAAAAD4fwAAAAAAAPh/AAAAAAAA+H8AAAAAAAD4fwAAAAAAAPh/AAAAAAAA+H8AAAAAAAD4fwAAAAAAAPh/AAAAAAAA+H8AAAAAAAD4fwAAAAAAAPh/AAAAAAAA+H8AAAAAAAD4fwAAAAAAAPh/AAAAAAAA+H+amZmZmZlOQGZmZmZm5kpAMzMzMzOzS0BmZmZmZqZOQAAAAAAAYFBAMzMzMzOzUECamZmZmflQQJqZmZmZGVJAMzMzMzMzUkBmZmZmZmZSQM3MzMzMLFJAzczMzMysUUAzMzMzM7NRQGZmZmZmZlFAZmZmZmbGUUCamZmZmZlRQJqZmZmZmVBAAAAAAACgUEAAAAAAAGBQQM3MzMzMjE1AzczMzMwMUEAAAAAAAABRQJqZmZmZeVFAAAAAAADAUEAzMzMzMzNRQJqZmZmZ2VRAAAAAAADAVkAAAAAAAMBWQJqZmZmZeVdAmpmZmZkZW0AAAAAAAOBbQDMzMzMzk2BAmpmZmZkpaEAzMzMzMzNxQGZmZmZmVnFA",
          "dtype": "f8"
         }
        }
       ],
       "layout": {
        "margin": {
         "b": 100
        },
        "template": {
         "data": {
          "bar": [
           {
            "error_x": {
             "color": "#2a3f5f"
            },
            "error_y": {
             "color": "#2a3f5f"
            },
            "marker": {
             "line": {
              "color": "#E5ECF6",
              "width": 0.5
             },
             "pattern": {
              "fillmode": "overlay",
              "size": 10,
              "solidity": 0.2
             }
            },
            "type": "bar"
           }
          ],
          "barpolar": [
           {
            "marker": {
             "line": {
              "color": "#E5ECF6",
              "width": 0.5
             },
             "pattern": {
              "fillmode": "overlay",
              "size": 10,
              "solidity": 0.2
             }
            },
            "type": "barpolar"
           }
          ],
          "carpet": [
           {
            "aaxis": {
             "endlinecolor": "#2a3f5f",
             "gridcolor": "white",
             "linecolor": "white",
             "minorgridcolor": "white",
             "startlinecolor": "#2a3f5f"
            },
            "baxis": {
             "endlinecolor": "#2a3f5f",
             "gridcolor": "white",
             "linecolor": "white",
             "minorgridcolor": "white",
             "startlinecolor": "#2a3f5f"
            },
            "type": "carpet"
           }
          ],
          "choropleth": [
           {
            "colorbar": {
             "outlinewidth": 0,
             "ticks": ""
            },
            "type": "choropleth"
           }
          ],
          "contour": [
           {
            "colorbar": {
             "outlinewidth": 0,
             "ticks": ""
            },
            "colorscale": [
             [
              0,
              "#0d0887"
             ],
             [
              0.1111111111111111,
              "#46039f"
             ],
             [
              0.2222222222222222,
              "#7201a8"
             ],
             [
              0.3333333333333333,
              "#9c179e"
             ],
             [
              0.4444444444444444,
              "#bd3786"
             ],
             [
              0.5555555555555556,
              "#d8576b"
             ],
             [
              0.6666666666666666,
              "#ed7953"
             ],
             [
              0.7777777777777778,
              "#fb9f3a"
             ],
             [
              0.8888888888888888,
              "#fdca26"
             ],
             [
              1,
              "#f0f921"
             ]
            ],
            "type": "contour"
           }
          ],
          "contourcarpet": [
           {
            "colorbar": {
             "outlinewidth": 0,
             "ticks": ""
            },
            "type": "contourcarpet"
           }
          ],
          "heatmap": [
           {
            "colorbar": {
             "outlinewidth": 0,
             "ticks": ""
            },
            "colorscale": [
             [
              0,
              "#0d0887"
             ],
             [
              0.1111111111111111,
              "#46039f"
             ],
             [
              0.2222222222222222,
              "#7201a8"
             ],
             [
              0.3333333333333333,
              "#9c179e"
             ],
             [
              0.4444444444444444,
              "#bd3786"
             ],
             [
              0.5555555555555556,
              "#d8576b"
             ],
             [
              0.6666666666666666,
              "#ed7953"
             ],
             [
              0.7777777777777778,
              "#fb9f3a"
             ],
             [
              0.8888888888888888,
              "#fdca26"
             ],
             [
              1,
              "#f0f921"
             ]
            ],
            "type": "heatmap"
           }
          ],
          "histogram": [
           {
            "marker": {
             "pattern": {
              "fillmode": "overlay",
              "size": 10,
              "solidity": 0.2
             }
            },
            "type": "histogram"
           }
          ],
          "histogram2d": [
           {
            "colorbar": {
             "outlinewidth": 0,
             "ticks": ""
            },
            "colorscale": [
             [
              0,
              "#0d0887"
             ],
             [
              0.1111111111111111,
              "#46039f"
             ],
             [
              0.2222222222222222,
              "#7201a8"
             ],
             [
              0.3333333333333333,
              "#9c179e"
             ],
             [
              0.4444444444444444,
              "#bd3786"
             ],
             [
              0.5555555555555556,
              "#d8576b"
             ],
             [
              0.6666666666666666,
              "#ed7953"
             ],
             [
              0.7777777777777778,
              "#fb9f3a"
             ],
             [
              0.8888888888888888,
              "#fdca26"
             ],
             [
              1,
              "#f0f921"
             ]
            ],
            "type": "histogram2d"
           }
          ],
          "histogram2dcontour": [
           {
            "colorbar": {
             "outlinewidth": 0,
             "ticks": ""
            },
            "colorscale": [
             [
              0,
              "#0d0887"
             ],
             [
              0.1111111111111111,
              "#46039f"
             ],
             [
              0.2222222222222222,
              "#7201a8"
             ],
             [
              0.3333333333333333,
              "#9c179e"
             ],
             [
              0.4444444444444444,
              "#bd3786"
             ],
             [
              0.5555555555555556,
              "#d8576b"
             ],
             [
              0.6666666666666666,
              "#ed7953"
             ],
             [
              0.7777777777777778,
              "#fb9f3a"
             ],
             [
              0.8888888888888888,
              "#fdca26"
             ],
             [
              1,
              "#f0f921"
             ]
            ],
            "type": "histogram2dcontour"
           }
          ],
          "mesh3d": [
           {
            "colorbar": {
             "outlinewidth": 0,
             "ticks": ""
            },
            "type": "mesh3d"
           }
          ],
          "parcoords": [
           {
            "line": {
             "colorbar": {
              "outlinewidth": 0,
              "ticks": ""
             }
            },
            "type": "parcoords"
           }
          ],
          "pie": [
           {
            "automargin": true,
            "type": "pie"
           }
          ],
          "scatter": [
           {
            "fillpattern": {
             "fillmode": "overlay",
             "size": 10,
             "solidity": 0.2
            },
            "type": "scatter"
           }
          ],
          "scatter3d": [
           {
            "line": {
             "colorbar": {
              "outlinewidth": 0,
              "ticks": ""
             }
            },
            "marker": {
             "colorbar": {
              "outlinewidth": 0,
              "ticks": ""
             }
            },
            "type": "scatter3d"
           }
          ],
          "scattercarpet": [
           {
            "marker": {
             "colorbar": {
              "outlinewidth": 0,
              "ticks": ""
             }
            },
            "type": "scattercarpet"
           }
          ],
          "scattergeo": [
           {
            "marker": {
             "colorbar": {
              "outlinewidth": 0,
              "ticks": ""
             }
            },
            "type": "scattergeo"
           }
          ],
          "scattergl": [
           {
            "marker": {
             "colorbar": {
              "outlinewidth": 0,
              "ticks": ""
             }
            },
            "type": "scattergl"
           }
          ],
          "scattermap": [
           {
            "marker": {
             "colorbar": {
              "outlinewidth": 0,
              "ticks": ""
             }
            },
            "type": "scattermap"
           }
          ],
          "scattermapbox": [
           {
            "marker": {
             "colorbar": {
              "outlinewidth": 0,
              "ticks": ""
             }
            },
            "type": "scattermapbox"
           }
          ],
          "scatterpolar": [
           {
            "marker": {
             "colorbar": {
              "outlinewidth": 0,
              "ticks": ""
             }
            },
            "type": "scatterpolar"
           }
          ],
          "scatterpolargl": [
           {
            "marker": {
             "colorbar": {
              "outlinewidth": 0,
              "ticks": ""
             }
            },
            "type": "scatterpolargl"
           }
          ],
          "scatterternary": [
           {
            "marker": {
             "colorbar": {
              "outlinewidth": 0,
              "ticks": ""
             }
            },
            "type": "scatterternary"
           }
          ],
          "surface": [
           {
            "colorbar": {
             "outlinewidth": 0,
             "ticks": ""
            },
            "colorscale": [
             [
              0,
              "#0d0887"
             ],
             [
              0.1111111111111111,
              "#46039f"
             ],
             [
              0.2222222222222222,
              "#7201a8"
             ],
             [
              0.3333333333333333,
              "#9c179e"
             ],
             [
              0.4444444444444444,
              "#bd3786"
             ],
             [
              0.5555555555555556,
              "#d8576b"
             ],
             [
              0.6666666666666666,
              "#ed7953"
             ],
             [
              0.7777777777777778,
              "#fb9f3a"
             ],
             [
              0.8888888888888888,
              "#fdca26"
             ],
             [
              1,
              "#f0f921"
             ]
            ],
            "type": "surface"
           }
          ],
          "table": [
           {
            "cells": {
             "fill": {
              "color": "#EBF0F8"
             },
             "line": {
              "color": "white"
             }
            },
            "header": {
             "fill": {
              "color": "#C8D4E3"
             },
             "line": {
              "color": "white"
             }
            },
            "type": "table"
           }
          ]
         },
         "layout": {
          "annotationdefaults": {
           "arrowcolor": "#2a3f5f",
           "arrowhead": 0,
           "arrowwidth": 1
          },
          "autotypenumbers": "strict",
          "coloraxis": {
           "colorbar": {
            "outlinewidth": 0,
            "ticks": ""
           }
          },
          "colorscale": {
           "diverging": [
            [
             0,
             "#8e0152"
            ],
            [
             0.1,
             "#c51b7d"
            ],
            [
             0.2,
             "#de77ae"
            ],
            [
             0.3,
             "#f1b6da"
            ],
            [
             0.4,
             "#fde0ef"
            ],
            [
             0.5,
             "#f7f7f7"
            ],
            [
             0.6,
             "#e6f5d0"
            ],
            [
             0.7,
             "#b8e186"
            ],
            [
             0.8,
             "#7fbc41"
            ],
            [
             0.9,
             "#4d9221"
            ],
            [
             1,
             "#276419"
            ]
           ],
           "sequential": [
            [
             0,
             "#0d0887"
            ],
            [
             0.1111111111111111,
             "#46039f"
            ],
            [
             0.2222222222222222,
             "#7201a8"
            ],
            [
             0.3333333333333333,
             "#9c179e"
            ],
            [
             0.4444444444444444,
             "#bd3786"
            ],
            [
             0.5555555555555556,
             "#d8576b"
            ],
            [
             0.6666666666666666,
             "#ed7953"
            ],
            [
             0.7777777777777778,
             "#fb9f3a"
            ],
            [
             0.8888888888888888,
             "#fdca26"
            ],
            [
             1,
             "#f0f921"
            ]
           ],
           "sequentialminus": [
            [
             0,
             "#0d0887"
            ],
            [
             0.1111111111111111,
             "#46039f"
            ],
            [
             0.2222222222222222,
             "#7201a8"
            ],
            [
             0.3333333333333333,
             "#9c179e"
            ],
            [
             0.4444444444444444,
             "#bd3786"
            ],
            [
             0.5555555555555556,
             "#d8576b"
            ],
            [
             0.6666666666666666,
             "#ed7953"
            ],
            [
             0.7777777777777778,
             "#fb9f3a"
            ],
            [
             0.8888888888888888,
             "#fdca26"
            ],
            [
             1,
             "#f0f921"
            ]
           ]
          },
          "colorway": [
           "#636efa",
           "#EF553B",
           "#00cc96",
           "#ab63fa",
           "#FFA15A",
           "#19d3f3",
           "#FF6692",
           "#B6E880",
           "#FF97FF",
           "#FECB52"
          ],
          "font": {
           "color": "#2a3f5f"
          },
          "geo": {
           "bgcolor": "white",
           "lakecolor": "white",
           "landcolor": "#E5ECF6",
           "showlakes": true,
           "showland": true,
           "subunitcolor": "white"
          },
          "hoverlabel": {
           "align": "left"
          },
          "hovermode": "closest",
          "mapbox": {
           "style": "light"
          },
          "paper_bgcolor": "white",
          "plot_bgcolor": "#E5ECF6",
          "polar": {
           "angularaxis": {
            "gridcolor": "white",
            "linecolor": "white",
            "ticks": ""
           },
           "bgcolor": "#E5ECF6",
           "radialaxis": {
            "gridcolor": "white",
            "linecolor": "white",
            "ticks": ""
           }
          },
          "scene": {
           "xaxis": {
            "backgroundcolor": "#E5ECF6",
            "gridcolor": "white",
            "gridwidth": 2,
            "linecolor": "white",
            "showbackground": true,
            "ticks": "",
            "zerolinecolor": "white"
           },
           "yaxis": {
            "backgroundcolor": "#E5ECF6",
            "gridcolor": "white",
            "gridwidth": 2,
            "linecolor": "white",
            "showbackground": true,
            "ticks": "",
            "zerolinecolor": "white"
           },
           "zaxis": {
            "backgroundcolor": "#E5ECF6",
            "gridcolor": "white",
            "gridwidth": 2,
            "linecolor": "white",
            "showbackground": true,
            "ticks": "",
            "zerolinecolor": "white"
           }
          },
          "shapedefaults": {
           "line": {
            "color": "#2a3f5f"
           }
          },
          "ternary": {
           "aaxis": {
            "gridcolor": "white",
            "linecolor": "white",
            "ticks": ""
           },
           "baxis": {
            "gridcolor": "white",
            "linecolor": "white",
            "ticks": ""
           },
           "bgcolor": "#E5ECF6",
           "caxis": {
            "gridcolor": "white",
            "linecolor": "white",
            "ticks": ""
           }
          },
          "title": {
           "x": 0.05
          },
          "xaxis": {
           "automargin": true,
           "gridcolor": "white",
           "linecolor": "white",
           "ticks": "",
           "title": {
            "standoff": 15
           },
           "zerolinecolor": "white",
           "zerolinewidth": 2
          },
          "yaxis": {
           "automargin": true,
           "gridcolor": "white",
           "linecolor": "white",
           "ticks": "",
           "title": {
            "standoff": 15
           },
           "zerolinecolor": "white",
           "zerolinewidth": 2
          }
         }
        },
        "updatemenus": [
         {
          "active": 0,
          "buttons": [
           {
            "args": [
             {
              "visible": [
               true,
               false,
               false,
               false,
               false,
               false,
               false,
               false,
               false,
               false,
               false,
               false
              ]
             },
             {}
            ],
            "label": "Consumption (GWh)  ̶  based on estimated sales",
            "method": "update"
           },
           {
            "args": [
             {
              "visible": [
               false,
               true,
               false,
               false,
               false,
               false,
               false,
               false,
               false,
               false,
               false,
               false
              ]
             },
             {}
            ],
            "label": "Agriculture, Forestry, and Fishing",
            "method": "update"
           },
           {
            "args": [
             {
              "visible": [
               false,
               false,
               true,
               false,
               false,
               false,
               false,
               false,
               false,
               false,
               false,
               false
              ]
             },
             {}
            ],
            "label": "Industrial:",
            "method": "update"
           },
           {
            "args": [
             {
              "visible": [
               false,
               false,
               false,
               true,
               false,
               false,
               false,
               false,
               false,
               false,
               false,
               false
              ]
             },
             {}
            ],
            "label": "Mining",
            "method": "update"
           },
           {
            "args": [
             {
              "visible": [
               false,
               false,
               false,
               false,
               true,
               false,
               false,
               false,
               false,
               false,
               false,
               false
              ]
             },
             {}
            ],
            "label": "Food Processing",
            "method": "update"
           },
           {
            "args": [
             {
              "visible": [
               false,
               false,
               false,
               false,
               false,
               true,
               false,
               false,
               false,
               false,
               false,
               false
              ]
             },
             {}
            ],
            "label": "Wood, Pulp, Paper and Printing",
            "method": "update"
           },
           {
            "args": [
             {
              "visible": [
               false,
               false,
               false,
               false,
               false,
               false,
               true,
               false,
               false,
               false,
               false,
               false
              ]
             },
             {}
            ],
            "label": "Chemicals",
            "method": "update"
           },
           {
            "args": [
             {
              "visible": [
               false,
               false,
               false,
               false,
               false,
               false,
               false,
               true,
               false,
               false,
               false,
               false
              ]
             },
             {}
            ],
            "label": "Basic Metals",
            "method": "update"
           },
           {
            "args": [
             {
              "visible": [
               false,
               false,
               false,
               false,
               false,
               false,
               false,
               false,
               true,
               false,
               false,
               false
              ]
             },
             {}
            ],
            "label": "Other Minor Sectors",
            "method": "update"
           },
           {
            "args": [
             {
              "visible": [
               false,
               false,
               false,
               false,
               false,
               false,
               false,
               false,
               false,
               true,
               false,
               false
              ]
             },
             {}
            ],
            "label": "Commercial",
            "method": "update"
           },
           {
            "args": [
             {
              "visible": [
               false,
               false,
               false,
               false,
               false,
               false,
               false,
               false,
               false,
               false,
               true,
               false
              ]
             },
             {}
            ],
            "label": "Residential",
            "method": "update"
           },
           {
            "args": [
             {
              "visible": [
               false,
               false,
               false,
               false,
               false,
               false,
               false,
               false,
               false,
               false,
               false,
               true
              ]
             },
             {}
            ],
            "label": "Transport",
            "method": "update"
           }
          ],
          "direction": "down",
          "showactive": true,
          "x": 1.05,
          "xanchor": "left",
          "y": 0.5,
          "yanchor": "middle"
         }
        ],
        "xaxis": {
         "title": {
          "text": "Year"
         }
        },
        "yaxis": {
         "title": {
          "text": "GWh"
         }
        }
       }
      },
      "image/png": "[encoded data removed]"
     },
     "metadata": {},
     "output_type": "display_data"
    },
    {
     "data": {
      "text/html": [
       "\n",
       "    <div style=\"margin: 20px; text-align: left;\">\n",
       "        <a href=\"data:file/csv;base64,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\" \n",
       "           download=\"consumption_data.csv\"\n",
       "           style=\"padding: 10px 20px; \n",
       "                  background-color: #0074D9; \n",
       "                  color: white; \n",
       "                  text-decoration: none;\n",
       "                  border-radius: 5px;\n",
       "                  font-family: Arial, sans-serif;\">\n",
       "            Download Consumption Data (CSV)\n",
       "        </a>\n",
       "    </div>\n",
       "    "
      ],
      "text/plain": [
       "<IPython.core.display.HTML object>"
      ]
     },
     "metadata": {},
     "output_type": "display_data"
    }
   ],
   "source": [
    "import importlib\n",
    "import consumption_plot\n",
    "importlib.reload(consumption_plot)\n",
    "from consumption_plot import create_consumption_plot\n",
    "\n",
    "fig, show_plot = create_consumption_plot()\n",
    "show_plot()"
   ]
  },
  {
   "cell_type": "markdown",
   "id": "17b9ba86-afd4-4d4c-a62a-f76ecf8cf66c",
   "metadata": {},
   "source": [
    "# Average Electricity Consumption Plot"
   ]
  },
  {
   "cell_type": "code",
   "execution_count": 11,
   "id": "a017a8a5-7d3e-4321-98b0-ebbb2b781353",
   "metadata": {},
   "outputs": [
    {
     "data": {
      "application/vnd.plotly.v1+json": {
       "config": {
        "plotlyServerURL": "https://plot.ly"
       },
       "data": [
        {
         "name": "Average consumption per ICP (KWh)",
         "type": "scatter",
         "visible": true,
         "x": [
          "1998-01-01T00:00:00.000000000",
          "1999-01-01T00:00:00.000000000",
          "2000-01-01T00:00:00.000000000",
          "2001-01-01T00:00:00.000000000",
          "2002-01-01T00:00:00.000000000",
          "2003-01-01T00:00:00.000000000",
          "2004-01-01T00:00:00.000000000",
          "2005-01-01T00:00:00.000000000",
          "2006-01-01T00:00:00.000000000",
          "2007-01-01T00:00:00.000000000",
          "2008-01-01T00:00:00.000000000",
          "2009-01-01T00:00:00.000000000",
          "2010-01-01T00:00:00.000000000",
          "2011-01-01T00:00:00.000000000",
          "2012-01-01T00:00:00.000000000",
          "2013-01-01T00:00:00.000000000",
          "2014-01-01T00:00:00.000000000",
          "2015-01-01T00:00:00.000000000",
          "2016-01-01T00:00:00.000000000",
          "2017-01-01T00:00:00.000000000",
          "2018-01-01T00:00:00.000000000",
          "2019-01-01T00:00:00.000000000",
          "2020-01-01T00:00:00.000000000",
          "2021-01-01T00:00:00.000000000",
          "2022-01-01T00:00:00.000000000",
          "2023-01-01T00:00:00.000000000",
          "2024-01-01T00:00:00.000000000"
         ],
         "y": {
          "bdata": "AAAAAECY0kDNzMzMbC3TQM3MzMzMW9NAmpmZmfmN00AzMzMz83vTQJqZmZnZRdNAZmZmZsYF1EAAAAAAAM/TQJqZmZn5xdNAMzMzM/P500DNzMzMDLXTQGZmZmbGeNNAAAAAAAAP1EAAAAAA4L3TQGZmZmambtNAMzMzM9M600AzMzMzMzjTQJqZmZkZLtNAmpmZmdm/0kDNzMzMzJzSQJqZmZm5idJAAAAAAGCn0kAAAAAAIA3SQJqZmZnZ39FAmpmZmVl70UCamZmZeUXRQGZmZmbmDtFA",
          "dtype": "f8"
         }
        },
        {
         "name": "Agriculture, Forestry, and Fishing",
         "type": "scatter",
         "visible": false,
         "x": [
          "1998-01-01T00:00:00.000000000",
          "1999-01-01T00:00:00.000000000",
          "2000-01-01T00:00:00.000000000",
          "2001-01-01T00:00:00.000000000",
          "2002-01-01T00:00:00.000000000",
          "2003-01-01T00:00:00.000000000",
          "2004-01-01T00:00:00.000000000",
          "2005-01-01T00:00:00.000000000",
          "2006-01-01T00:00:00.000000000",
          "2007-01-01T00:00:00.000000000",
          "2008-01-01T00:00:00.000000000",
          "2009-01-01T00:00:00.000000000",
          "2010-01-01T00:00:00.000000000",
          "2011-01-01T00:00:00.000000000",
          "2012-01-01T00:00:00.000000000",
          "2013-01-01T00:00:00.000000000",
          "2014-01-01T00:00:00.000000000",
          "2015-01-01T00:00:00.000000000",
          "2016-01-01T00:00:00.000000000",
          "2017-01-01T00:00:00.000000000",
          "2018-01-01T00:00:00.000000000",
          "2019-01-01T00:00:00.000000000",
          "2020-01-01T00:00:00.000000000",
          "2021-01-01T00:00:00.000000000",
          "2022-01-01T00:00:00.000000000",
          "2023-01-01T00:00:00.000000000",
          "2024-01-01T00:00:00.000000000"
         ],
         "y": {
          "bdata": "zczMzEy/yUBmZmZmpuXNQAAAAAAAGtFAAAAAAGA000CamZmZ+ZXSQDMzMzMzM9NAmpmZmTn30kAzMzMz88rSQAAAAADgNtVAZmZmZuaj10AAAAAAYIXaQDMzMzNzhttAzczMzOyb4ECamZmZGfvdQGZmZmZGL9xAzczMzIwW3kAAAAAAYIPgQGZmZmYmiOFAZmZmZiZ130CamZmZmerfQM3MzMzMZtxAMzMzM9Mh30BmZmZmppneQJqZmZn5ct1AZmZmZgZv20CamZmZeRvdQAAAAACgWd9A",
          "dtype": "f8"
         }
        },
        {
         "name": "Industrial",
         "type": "scatter",
         "visible": false,
         "x": [
          "1998-01-01T00:00:00.000000000",
          "1999-01-01T00:00:00.000000000",
          "2000-01-01T00:00:00.000000000",
          "2001-01-01T00:00:00.000000000",
          "2002-01-01T00:00:00.000000000",
          "2003-01-01T00:00:00.000000000",
          "2004-01-01T00:00:00.000000000",
          "2005-01-01T00:00:00.000000000",
          "2006-01-01T00:00:00.000000000",
          "2007-01-01T00:00:00.000000000",
          "2008-01-01T00:00:00.000000000",
          "2009-01-01T00:00:00.000000000",
          "2010-01-01T00:00:00.000000000",
          "2011-01-01T00:00:00.000000000",
          "2012-01-01T00:00:00.000000000",
          "2013-01-01T00:00:00.000000000",
          "2014-01-01T00:00:00.000000000",
          "2015-01-01T00:00:00.000000000",
          "2016-01-01T00:00:00.000000000",
          "2017-01-01T00:00:00.000000000",
          "2018-01-01T00:00:00.000000000",
          "2019-01-01T00:00:00.000000000",
          "2020-01-01T00:00:00.000000000",
          "2021-01-01T00:00:00.000000000",
          "2022-01-01T00:00:00.000000000",
          "2023-01-01T00:00:00.000000000",
          "2024-01-01T00:00:00.000000000"
         ],
         "y": {
          "bdata": "AAAAAKpTF0EAAAAA9OoZQZqZmZk/rRpBzczMzFY0HUGamZmZQ+4dQWZmZmacwBtBzczMzAA+HUEAAAAAClEbQWZmZmZCXhhBMzMzMw+ZF0GamZmZrxIXQZqZmZnrMxZBZmZmZlryGUEzMzMzp/oYQc3MzMzishhBMzMzM00AGUGamZmZO6wXQTMzMzMfqRZBAAAAAAZmFUHNzMzMvt0UQWZmZmb6OxRBzczMzIbzE0HNzMzMwN0RQc3MzMxE3RBBmpmZmfczEEEAAAAAlFQQQc3MzMzunhBB",
          "dtype": "f8"
         }
        },
        {
         "name": "Commercial",
         "type": "scatter",
         "visible": false,
         "x": [
          "1998-01-01T00:00:00.000000000",
          "1999-01-01T00:00:00.000000000",
          "2000-01-01T00:00:00.000000000",
          "2001-01-01T00:00:00.000000000",
          "2002-01-01T00:00:00.000000000",
          "2003-01-01T00:00:00.000000000",
          "2004-01-01T00:00:00.000000000",
          "2005-01-01T00:00:00.000000000",
          "2006-01-01T00:00:00.000000000",
          "2007-01-01T00:00:00.000000000",
          "2008-01-01T00:00:00.000000000",
          "2009-01-01T00:00:00.000000000",
          "2010-01-01T00:00:00.000000000",
          "2011-01-01T00:00:00.000000000",
          "2012-01-01T00:00:00.000000000",
          "2013-01-01T00:00:00.000000000",
          "2014-01-01T00:00:00.000000000",
          "2015-01-01T00:00:00.000000000",
          "2016-01-01T00:00:00.000000000",
          "2017-01-01T00:00:00.000000000",
          "2018-01-01T00:00:00.000000000",
          "2019-01-01T00:00:00.000000000",
          "2020-01-01T00:00:00.000000000",
          "2021-01-01T00:00:00.000000000",
          "2022-01-01T00:00:00.000000000",
          "2023-01-01T00:00:00.000000000",
          "2024-01-01T00:00:00.000000000"
         ],
         "y": {
          "bdata": "zczMzIyv5kDNzMzMHKDnQAAAAABAo+hAAAAAAICf6UAAAAAAkHLpQAAAAACAjulAMzMzM7Oo60CamZmZqavqQJqZmZlZsOpAZmZmZuaM7EDNzMzM3GfsQM3MzMzM1+pAAAAAALDx7EDNzMzM3C7rQAAAAACQTupAzczMzByV6kAzMzMzU07rQJqZmZkJRetAZmZmZgaq6kDNzMzMHE/qQAAAAAAQNepAzczMzGyg6UAAAAAAgMbnQM3MzMzchOdAMzMzMzOA50CamZmZmffnQAAAAADwzedA",
          "dtype": "f8"
         }
        },
        {
         "name": "Residential",
         "type": "scatter",
         "visible": false,
         "x": [
          "1998-01-01T00:00:00.000000000",
          "1999-01-01T00:00:00.000000000",
          "2000-01-01T00:00:00.000000000",
          "2001-01-01T00:00:00.000000000",
          "2002-01-01T00:00:00.000000000",
          "2003-01-01T00:00:00.000000000",
          "2004-01-01T00:00:00.000000000",
          "2005-01-01T00:00:00.000000000",
          "2006-01-01T00:00:00.000000000",
          "2007-01-01T00:00:00.000000000",
          "2008-01-01T00:00:00.000000000",
          "2009-01-01T00:00:00.000000000",
          "2010-01-01T00:00:00.000000000",
          "2011-01-01T00:00:00.000000000",
          "2012-01-01T00:00:00.000000000",
          "2013-01-01T00:00:00.000000000",
          "2014-01-01T00:00:00.000000000",
          "2015-01-01T00:00:00.000000000",
          "2016-01-01T00:00:00.000000000",
          "2017-01-01T00:00:00.000000000",
          "2018-01-01T00:00:00.000000000",
          "2019-01-01T00:00:00.000000000",
          "2020-01-01T00:00:00.000000000",
          "2021-01-01T00:00:00.000000000",
          "2022-01-01T00:00:00.000000000",
          "2023-01-01T00:00:00.000000000",
          "2024-01-01T00:00:00.000000000"
         ],
         "y": {
          "bdata": "AAAAAACrvUAzMzMzM66+QAAAAAAA471AmpmZmZmnvkBmZmZmZq+9QM3MzMzMZr5AZmZmZmaivkCamZmZGau9QDMzMzOzdL5AmpmZmZkrvkAzMzMzM+69QGZmZmbm9L5AmpmZmRm4vUCamZmZmai9QJqZmZkZsr1AAAAAAADEvEAAAAAAAK28QM3MzMxMTrxAzczMzMzQu0BmZmZm5o67QDMzMzMzHLxAmpmZmRnuu0DNzMzMzDq8QM3MzMxMs7xAzczMzEzou0BmZmZm5ga8QAAAAAAAJrxA",
          "dtype": "f8"
         }
        }
       ],
       "layout": {
        "margin": {
         "b": 100
        },
        "template": {
         "data": {
          "bar": [
           {
            "error_x": {
             "color": "#2a3f5f"
            },
            "error_y": {
             "color": "#2a3f5f"
            },
            "marker": {
             "line": {
              "color": "#E5ECF6",
              "width": 0.5
             },
             "pattern": {
              "fillmode": "overlay",
              "size": 10,
              "solidity": 0.2
             }
            },
            "type": "bar"
           }
          ],
          "barpolar": [
           {
            "marker": {
             "line": {
              "color": "#E5ECF6",
              "width": 0.5
             },
             "pattern": {
              "fillmode": "overlay",
              "size": 10,
              "solidity": 0.2
             }
            },
            "type": "barpolar"
           }
          ],
          "carpet": [
           {
            "aaxis": {
             "endlinecolor": "#2a3f5f",
             "gridcolor": "white",
             "linecolor": "white",
             "minorgridcolor": "white",
             "startlinecolor": "#2a3f5f"
            },
            "baxis": {
             "endlinecolor": "#2a3f5f",
             "gridcolor": "white",
             "linecolor": "white",
             "minorgridcolor": "white",
             "startlinecolor": "#2a3f5f"
            },
            "type": "carpet"
           }
          ],
          "choropleth": [
           {
            "colorbar": {
             "outlinewidth": 0,
             "ticks": ""
            },
            "type": "choropleth"
           }
          ],
          "contour": [
           {
            "colorbar": {
             "outlinewidth": 0,
             "ticks": ""
            },
            "colorscale": [
             [
              0,
              "#0d0887"
             ],
             [
              0.1111111111111111,
              "#46039f"
             ],
             [
              0.2222222222222222,
              "#7201a8"
             ],
             [
              0.3333333333333333,
              "#9c179e"
             ],
             [
              0.4444444444444444,
              "#bd3786"
             ],
             [
              0.5555555555555556,
              "#d8576b"
             ],
             [
              0.6666666666666666,
              "#ed7953"
             ],
             [
              0.7777777777777778,
              "#fb9f3a"
             ],
             [
              0.8888888888888888,
              "#fdca26"
             ],
             [
              1,
              "#f0f921"
             ]
            ],
            "type": "contour"
           }
          ],
          "contourcarpet": [
           {
            "colorbar": {
             "outlinewidth": 0,
             "ticks": ""
            },
            "type": "contourcarpet"
           }
          ],
          "heatmap": [
           {
            "colorbar": {
             "outlinewidth": 0,
             "ticks": ""
            },
            "colorscale": [
             [
              0,
              "#0d0887"
             ],
             [
              0.1111111111111111,
              "#46039f"
             ],
             [
              0.2222222222222222,
              "#7201a8"
             ],
             [
              0.3333333333333333,
              "#9c179e"
             ],
             [
              0.4444444444444444,
              "#bd3786"
             ],
             [
              0.5555555555555556,
              "#d8576b"
             ],
             [
              0.6666666666666666,
              "#ed7953"
             ],
             [
              0.7777777777777778,
              "#fb9f3a"
             ],
             [
              0.8888888888888888,
              "#fdca26"
             ],
             [
              1,
              "#f0f921"
             ]
            ],
            "type": "heatmap"
           }
          ],
          "histogram": [
           {
            "marker": {
             "pattern": {
              "fillmode": "overlay",
              "size": 10,
              "solidity": 0.2
             }
            },
            "type": "histogram"
           }
          ],
          "histogram2d": [
           {
            "colorbar": {
             "outlinewidth": 0,
             "ticks": ""
            },
            "colorscale": [
             [
              0,
              "#0d0887"
             ],
             [
              0.1111111111111111,
              "#46039f"
             ],
             [
              0.2222222222222222,
              "#7201a8"
             ],
             [
              0.3333333333333333,
              "#9c179e"
             ],
             [
              0.4444444444444444,
              "#bd3786"
             ],
             [
              0.5555555555555556,
              "#d8576b"
             ],
             [
              0.6666666666666666,
              "#ed7953"
             ],
             [
              0.7777777777777778,
              "#fb9f3a"
             ],
             [
              0.8888888888888888,
              "#fdca26"
             ],
             [
              1,
              "#f0f921"
             ]
            ],
            "type": "histogram2d"
           }
          ],
          "histogram2dcontour": [
           {
            "colorbar": {
             "outlinewidth": 0,
             "ticks": ""
            },
            "colorscale": [
             [
              0,
              "#0d0887"
             ],
             [
              0.1111111111111111,
              "#46039f"
             ],
             [
              0.2222222222222222,
              "#7201a8"
             ],
             [
              0.3333333333333333,
              "#9c179e"
             ],
             [
              0.4444444444444444,
              "#bd3786"
             ],
             [
              0.5555555555555556,
              "#d8576b"
             ],
             [
              0.6666666666666666,
              "#ed7953"
             ],
             [
              0.7777777777777778,
              "#fb9f3a"
             ],
             [
              0.8888888888888888,
              "#fdca26"
             ],
             [
              1,
              "#f0f921"
             ]
            ],
            "type": "histogram2dcontour"
           }
          ],
          "mesh3d": [
           {
            "colorbar": {
             "outlinewidth": 0,
             "ticks": ""
            },
            "type": "mesh3d"
           }
          ],
          "parcoords": [
           {
            "line": {
             "colorbar": {
              "outlinewidth": 0,
              "ticks": ""
             }
            },
            "type": "parcoords"
           }
          ],
          "pie": [
           {
            "automargin": true,
            "type": "pie"
           }
          ],
          "scatter": [
           {
            "fillpattern": {
             "fillmode": "overlay",
             "size": 10,
             "solidity": 0.2
            },
            "type": "scatter"
           }
          ],
          "scatter3d": [
           {
            "line": {
             "colorbar": {
              "outlinewidth": 0,
              "ticks": ""
             }
            },
            "marker": {
             "colorbar": {
              "outlinewidth": 0,
              "ticks": ""
             }
            },
            "type": "scatter3d"
           }
          ],
          "scattercarpet": [
           {
            "marker": {
             "colorbar": {
              "outlinewidth": 0,
              "ticks": ""
             }
            },
            "type": "scattercarpet"
           }
          ],
          "scattergeo": [
           {
            "marker": {
             "colorbar": {
              "outlinewidth": 0,
              "ticks": ""
             }
            },
            "type": "scattergeo"
           }
          ],
          "scattergl": [
           {
            "marker": {
             "colorbar": {
              "outlinewidth": 0,
              "ticks": ""
             }
            },
            "type": "scattergl"
           }
          ],
          "scattermap": [
           {
            "marker": {
             "colorbar": {
              "outlinewidth": 0,
              "ticks": ""
             }
            },
            "type": "scattermap"
           }
          ],
          "scattermapbox": [
           {
            "marker": {
             "colorbar": {
              "outlinewidth": 0,
              "ticks": ""
             }
            },
            "type": "scattermapbox"
           }
          ],
          "scatterpolar": [
           {
            "marker": {
             "colorbar": {
              "outlinewidth": 0,
              "ticks": ""
             }
            },
            "type": "scatterpolar"
           }
          ],
          "scatterpolargl": [
           {
            "marker": {
             "colorbar": {
              "outlinewidth": 0,
              "ticks": ""
             }
            },
            "type": "scatterpolargl"
           }
          ],
          "scatterternary": [
           {
            "marker": {
             "colorbar": {
              "outlinewidth": 0,
              "ticks": ""
             }
            },
            "type": "scatterternary"
           }
          ],
          "surface": [
           {
            "colorbar": {
             "outlinewidth": 0,
             "ticks": ""
            },
            "colorscale": [
             [
              0,
              "#0d0887"
             ],
             [
              0.1111111111111111,
              "#46039f"
             ],
             [
              0.2222222222222222,
              "#7201a8"
             ],
             [
              0.3333333333333333,
              "#9c179e"
             ],
             [
              0.4444444444444444,
              "#bd3786"
             ],
             [
              0.5555555555555556,
              "#d8576b"
             ],
             [
              0.6666666666666666,
              "#ed7953"
             ],
             [
              0.7777777777777778,
              "#fb9f3a"
             ],
             [
              0.8888888888888888,
              "#fdca26"
             ],
             [
              1,
              "#f0f921"
             ]
            ],
            "type": "surface"
           }
          ],
          "table": [
           {
            "cells": {
             "fill": {
              "color": "#EBF0F8"
             },
             "line": {
              "color": "white"
             }
            },
            "header": {
             "fill": {
              "color": "#C8D4E3"
             },
             "line": {
              "color": "white"
             }
            },
            "type": "table"
           }
          ]
         },
         "layout": {
          "annotationdefaults": {
           "arrowcolor": "#2a3f5f",
           "arrowhead": 0,
           "arrowwidth": 1
          },
          "autotypenumbers": "strict",
          "coloraxis": {
           "colorbar": {
            "outlinewidth": 0,
            "ticks": ""
           }
          },
          "colorscale": {
           "diverging": [
            [
             0,
             "#8e0152"
            ],
            [
             0.1,
             "#c51b7d"
            ],
            [
             0.2,
             "#de77ae"
            ],
            [
             0.3,
             "#f1b6da"
            ],
            [
             0.4,
             "#fde0ef"
            ],
            [
             0.5,
             "#f7f7f7"
            ],
            [
             0.6,
             "#e6f5d0"
            ],
            [
             0.7,
             "#b8e186"
            ],
            [
             0.8,
             "#7fbc41"
            ],
            [
             0.9,
             "#4d9221"
            ],
            [
             1,
             "#276419"
            ]
           ],
           "sequential": [
            [
             0,
             "#0d0887"
            ],
            [
             0.1111111111111111,
             "#46039f"
            ],
            [
             0.2222222222222222,
             "#7201a8"
            ],
            [
             0.3333333333333333,
             "#9c179e"
            ],
            [
             0.4444444444444444,
             "#bd3786"
            ],
            [
             0.5555555555555556,
             "#d8576b"
            ],
            [
             0.6666666666666666,
             "#ed7953"
            ],
            [
             0.7777777777777778,
             "#fb9f3a"
            ],
            [
             0.8888888888888888,
             "#fdca26"
            ],
            [
             1,
             "#f0f921"
            ]
           ],
           "sequentialminus": [
            [
             0,
             "#0d0887"
            ],
            [
             0.1111111111111111,
             "#46039f"
            ],
            [
             0.2222222222222222,
             "#7201a8"
            ],
            [
             0.3333333333333333,
             "#9c179e"
            ],
            [
             0.4444444444444444,
             "#bd3786"
            ],
            [
             0.5555555555555556,
             "#d8576b"
            ],
            [
             0.6666666666666666,
             "#ed7953"
            ],
            [
             0.7777777777777778,
             "#fb9f3a"
            ],
            [
             0.8888888888888888,
             "#fdca26"
            ],
            [
             1,
             "#f0f921"
            ]
           ]
          },
          "colorway": [
           "#636efa",
           "#EF553B",
           "#00cc96",
           "#ab63fa",
           "#FFA15A",
           "#19d3f3",
           "#FF6692",
           "#B6E880",
           "#FF97FF",
           "#FECB52"
          ],
          "font": {
           "color": "#2a3f5f"
          },
          "geo": {
           "bgcolor": "white",
           "lakecolor": "white",
           "landcolor": "#E5ECF6",
           "showlakes": true,
           "showland": true,
           "subunitcolor": "white"
          },
          "hoverlabel": {
           "align": "left"
          },
          "hovermode": "closest",
          "mapbox": {
           "style": "light"
          },
          "paper_bgcolor": "white",
          "plot_bgcolor": "#E5ECF6",
          "polar": {
           "angularaxis": {
            "gridcolor": "white",
            "linecolor": "white",
            "ticks": ""
           },
           "bgcolor": "#E5ECF6",
           "radialaxis": {
            "gridcolor": "white",
            "linecolor": "white",
            "ticks": ""
           }
          },
          "scene": {
           "xaxis": {
            "backgroundcolor": "#E5ECF6",
            "gridcolor": "white",
            "gridwidth": 2,
            "linecolor": "white",
            "showbackground": true,
            "ticks": "",
            "zerolinecolor": "white"
           },
           "yaxis": {
            "backgroundcolor": "#E5ECF6",
            "gridcolor": "white",
            "gridwidth": 2,
            "linecolor": "white",
            "showbackground": true,
            "ticks": "",
            "zerolinecolor": "white"
           },
           "zaxis": {
            "backgroundcolor": "#E5ECF6",
            "gridcolor": "white",
            "gridwidth": 2,
            "linecolor": "white",
            "showbackground": true,
            "ticks": "",
            "zerolinecolor": "white"
           }
          },
          "shapedefaults": {
           "line": {
            "color": "#2a3f5f"
           }
          },
          "ternary": {
           "aaxis": {
            "gridcolor": "white",
            "linecolor": "white",
            "ticks": ""
           },
           "baxis": {
            "gridcolor": "white",
            "linecolor": "white",
            "ticks": ""
           },
           "bgcolor": "#E5ECF6",
           "caxis": {
            "gridcolor": "white",
            "linecolor": "white",
            "ticks": ""
           }
          },
          "title": {
           "x": 0.05
          },
          "xaxis": {
           "automargin": true,
           "gridcolor": "white",
           "linecolor": "white",
           "ticks": "",
           "title": {
            "standoff": 15
           },
           "zerolinecolor": "white",
           "zerolinewidth": 2
          },
          "yaxis": {
           "automargin": true,
           "gridcolor": "white",
           "linecolor": "white",
           "ticks": "",
           "title": {
            "standoff": 15
           },
           "zerolinecolor": "white",
           "zerolinewidth": 2
          }
         }
        },
        "updatemenus": [
         {
          "active": 0,
          "buttons": [
           {
            "args": [
             {
              "visible": [
               true,
               false,
               false,
               false,
               false
              ]
             },
             {}
            ],
            "label": "Average consumption per ICP (KWh)",
            "method": "update"
           },
           {
            "args": [
             {
              "visible": [
               false,
               true,
               false,
               false,
               false
              ]
             },
             {}
            ],
            "label": "Agriculture, Forestry, and Fishing",
            "method": "update"
           },
           {
            "args": [
             {
              "visible": [
               false,
               false,
               true,
               false,
               false
              ]
             },
             {}
            ],
            "label": "Industrial",
            "method": "update"
           },
           {
            "args": [
             {
              "visible": [
               false,
               false,
               false,
               true,
               false
              ]
             },
             {}
            ],
            "label": "Commercial",
            "method": "update"
           },
           {
            "args": [
             {
              "visible": [
               false,
               false,
               false,
               false,
               true
              ]
             },
             {}
            ],
            "label": "Residential",
            "method": "update"
           }
          ],
          "direction": "down",
          "showactive": true,
          "x": 1.05,
          "xanchor": "left",
          "y": 0.5,
          "yanchor": "middle"
         }
        ],
        "xaxis": {
         "title": {
          "text": "Year"
         }
        },
        "yaxis": {
         "title": {
          "text": "KWh"
         }
        }
       }
      },
      "image/png": "[encoded data removed]"
     },
     "metadata": {},
     "output_type": "display_data"
    },
    {
     "data": {
      "text/html": [
       "\n",
       "    <div style=\"margin: 20px; text-align: left;\">\n",
       "        <a href=\"data:file/csv;base64,LEF2ZXJhZ2UgY29uc3VtcHRpb24gcGVyIElDUCAoS1doKSwiQWdyaWN1bHR1cmUsIEZvcmVzdHJ5LCBhbmQgRmlzaGluZyIsSW5kdXN0cmlhbCxDb21tZXJjaWFsLFJlc2lkZW50aWFsCjE5OTgtMDEtMDEsMTkwNDEuMCwxMzE4Mi42LDM4MjE4Ni41LDQ2NDYwLjQsNzU5NS4wCjE5OTktMDEtMDEsMTk2MzcuNywxNTMwNy4zLDQyNDYzNy4wLDQ4Mzg0LjksNzg1NC4yCjIwMDAtMDEtMDEsMTk4MjMuMiwxNzUxMi4wLDQzNzA3MS45LDUwNDU4LjAsNzY1MS4wCjIwMDEtMDEtMDEsMjAwMjMuOSwxOTY2NS41LDQ3ODQ4NS43LDUyNDc2LjAsNzg0Ny42CjIwMDItMDEtMDEsMTk5NTEuOCwxOTAzMS45LDQ5MDM4NC45LDUyMTE2LjUsNzU5OS40CjIwMDMtMDEtMDEsMTk3MzUuNCwxOTY2MC44LDQ1NDY5NS4xLDUyMzQwLjAsNzc4Mi44CjIwMDQtMDEtMDEsMjA1MDMuMSwxOTQyMC45LDQ3OTEwNC4yLDU2NjQ1LjYsNzg0Mi40CjIwMDUtMDEtMDEsMjAyODQuMCwxOTI0My44LDQ0NzU1NC41LDU0NjIxLjMsNzU5NS4xCjIwMDYtMDEtMDEsMjAyNDcuOSwyMTcyMy41LDM5OTI0OC42LDU0NjU4LjgsNzc5Ni43CjIwMDctMDEtMDEsMjA0NTUuOCwyNDIwNy42LDM4NjYyNy44LDU4NDcxLjIsNzcyMy42CjIwMDgtMDEtMDEsMjAxODAuMiwyNzE1Ny41LDM3ODAyNy45LDU4MTc0LjksNzY2Mi4yCjIwMDktMDEtMDEsMTk5MzkuMSwyODE4NS44LDM2Mzc3MC45LDU0OTc0LjQsNzkyNC45CjIwMTAtMDEtMDEsMjA1NDAuMCwzNDAxNS40LDQyNTExMC42LDU5Mjc3LjUsNzYwOC4xCjIwMTEtMDEtMDEsMjAyMTUuNSwzMDcwMC40LDQwOTI1Ny44LDU1NjcwLjksNzU5Mi42CjIwMTItMDEtMDEsMTk4OTguNiwyODg2MS4xLDQwNDY2NC43LDUzODc2LjUsNzYwMi4xCjIwMTMtMDEtMDEsMTk2OTEuMywzMDgxMC4yLDQwOTYxOS4zLDU0NDQwLjksNzM2NC4wCjIwMTQtMDEtMDEsMTk2ODAuOCwzMzgxOS4wLDM4Nzg1NC45LDU1OTIyLjYsNzM0MS4wCjIwMTUtMDEtMDEsMTk2NDAuNCwzNTkwNS4yLDM3MTI3MS44LDU1ODQ4LjMsNzI0Ni4zCjIwMTYtMDEtMDEsMTkxOTkuNCwzMjIxMi42LDM1MDU5My41LDU0NjA4LjIsNzEyMC44CjIwMTctMDEtMDEsMTkwNTkuMiwzMjY4Mi40LDM0MTg3MS43LDUzODgwLjksNzA1NC45CjIwMTgtMDEtMDEsMTg5ODIuOSwyOTA4My4yLDMzMTUxOC42LDUzNjcyLjUsNzE5Ni4yCjIwMTktMDEtMDEsMTkxMDEuNSwzMTg3OS4zLDMyNjg4MS43LDUyNDgzLjQsNzE1MC4xCjIwMjAtMDEtMDEsMTg0ODQuNSwzMTMzNC42LDI5MjcyMC4yLDQ4NjkyLjAsNzIyNi44CjIwMjEtMDEtMDEsMTgzMDMuNCwzMDE1NS45LDI3NjMwNS4yLDQ4MTY2LjksNzM0Ny4zCjIwMjItMDEtMDEsMTc5MDEuNCwyODA5Mi4xLDI2NTQ2OS45LDQ4MTI5LjYsNzE0NC4zCjIwMjMtMDEtMDEsMTc2ODUuOSwyOTgwNS45LDI2NzU1Ny4wLDQ5MDg0LjgsNzE3NC45CjIwMjQtMDEtMDEsMTc0NjcuNiwzMjEwMi41LDI3MjMxNS43LDQ4NzUxLjUsNzIwNi4wCg==\" \n",
       "           download=\"average_consumption_data.csv\"\n",
       "           style=\"padding: 10px 20px; \n",
       "                  background-color: #0074D9; \n",
       "                  color: white; \n",
       "                  text-decoration: none;\n",
       "                  border-radius: 5px;\n",
       "                  font-family: Arial, sans-serif;\">\n",
       "            Download Average Consumption Data (CSV)\n",
       "        </a>\n",
       "    </div>\n",
       "    "
      ],
      "text/plain": [
       "<IPython.core.display.HTML object>"
      ]
     },
     "metadata": {},
     "output_type": "display_data"
    }
   ],
   "source": [
    "import importlib\n",
    "import average_consumption\n",
    "importlib.reload(average_consumption)\n",
    "from average_consumption import create_average_consumption_plot\n",
    "\n",
    "fig, show_plot = create_average_consumption_plot()\n",
    "show_plot()"
   ]
  }
 ],
 "metadata": {
  "kernelspec": {
   "display_name": "Python 3 (ipykernel)",
   "language": "python",
   "name": "python3"
  },
  "language_info": {
   "codemirror_mode": {
    "name": "ipython",
    "version": 3
   },
   "file_extension": ".py",
   "mimetype": "text/x-python",
   "name": "python",
   "nbconvert_exporter": "python",
   "pygments_lexer": "ipython3",
   "version": "3.13.5"
  }
 },
 "nbformat": 4,
 "nbformat_minor": 5
}
